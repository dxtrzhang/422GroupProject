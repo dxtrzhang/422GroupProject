{
 "cells": [
  {
   "cell_type": "markdown",
   "id": "20208ea1",
   "metadata": {},
   "source": [
    "## Before started"
   ]
  },
  {
   "cell_type": "code",
   "execution_count": 77,
   "id": "6152fcde",
   "metadata": {
    "vscode": {
     "languageId": "r"
    }
   },
   "outputs": [],
   "source": [
    "library(tidyverse)\n",
    "library(magrittr)\n",
    "library(glue)\n",
    "library(rvest)\n",
    "library(polite)\n",
    "library(xml2)\n",
    "library(httr)"
   ]
  },
  {
   "cell_type": "code",
   "execution_count": 78,
   "id": "ea7338cb",
   "metadata": {
    "vscode": {
     "languageId": "r"
    }
   },
   "outputs": [],
   "source": [
    "# This is the base url for all the scrape\n",
    "base_url <- \"https://www.allmusic.com\""
   ]
  },
  {
   "cell_type": "markdown",
   "id": "8f1b3fd2",
   "metadata": {},
   "source": [
    "This block contains some functions to simpilify the scraping code, they are added during the coding."
   ]
  },
  {
   "cell_type": "code",
   "execution_count": 79,
   "id": "17b2d40f",
   "metadata": {
    "vscode": {
     "languageId": "r"
    }
   },
   "outputs": [],
   "source": [
    "\n",
    "# get the value of the html node attribute\n",
    "get_attr_value <- function(node, attr) {\n",
    "  return(node %>% html_attrs() %>% map_chr(attr))\n",
    "}\n",
    "\n",
    "# get the link(href) of the html node\n",
    "get_href <- function(node) {\n",
    "  return(get_attr_value(node, \"href\"))\n",
    "}\n",
    "\n",
    "# get the text of the html node\n",
    "get_text <- function(node) {\n",
    "  return(node %>% html_text() %>% trimws())\n",
    "}"
   ]
  },
  {
   "cell_type": "markdown",
   "id": "a4b5738c",
   "metadata": {},
   "source": [
    "## Part 1: scrape genres, styles, themes and moods"
   ]
  },
  {
   "cell_type": "markdown",
   "id": "4846a65c",
   "metadata": {},
   "source": [
    "In part 1, we scrape all the genres, styles, themes and moods, since they are all under [\"advanced search\"](https://www.allmusic.com/advanced-search) page, so we only have to run Part 1 once, and all these data can be scraped. And the scraped data will be saved at: \n",
    "  * ./original/genre.csv\n",
    "  * ./original/style.csv\n",
    "  * ./original/theme.csv\n",
    "  * ./original/mood.csv"
   ]
  },
  {
   "cell_type": "code",
   "execution_count": 80,
   "id": "53160667",
   "metadata": {
    "vscode": {
     "languageId": "r"
    }
   },
   "outputs": [],
   "source": [
    "# scrape genres, styles, themes and moods\n",
    "search_path <- \"/advanced-search\"\n",
    "doc <- read_html(glue(base_url, search_path))"
   ]
  },
  {
   "cell_type": "markdown",
   "id": "23d22f8d",
   "metadata": {},
   "source": [
    "### Part 1.1 scrape genres & styles"
   ]
  },
  {
   "cell_type": "code",
   "execution_count": 81,
   "id": "45c0906d",
   "metadata": {
    "vscode": {
     "languageId": "r"
    }
   },
   "outputs": [],
   "source": [
    "# define the structure of genre data frame\n",
    "genre_df = tribble(\n",
    "  ~id, ~genre\n",
    ")\n",
    "\n",
    "# define the structure of style data frame, style is a sub-category of genre\n",
    "style_df = tribble(\n",
    "  ~id, ~style, ~genre_id\n",
    ")"
   ]
  },
  {
   "cell_type": "code",
   "execution_count": 82,
   "id": "81630d91",
   "metadata": {
    "vscode": {
     "languageId": "r"
    }
   },
   "outputs": [],
   "source": [
    "parse_genre_node <- function(node) {\n",
    "  return(tibble(\n",
    "    id = node %>% get_attr_value(\"for\"),\n",
    "    genre = node %>% get_text()\n",
    "  ))\n",
    "}\n",
    "\n",
    "parse_style_node <- function(node) {\n",
    "  label_node <- node %>% html_nodes(\"label\")\n",
    "\n",
    "  return(tibble(\n",
    "    id = label_node %>% get_attr_value(\"for\"),\n",
    "    style = label_node %>% get_text(),\n",
    "    genre_id = node %>% get_attr_value(\"data-parent\")\n",
    "  ))\n",
    "}\n",
    "\n",
    "# filter using two classes together\n",
    "genre_filter_node <- doc %>% html_nodes(\".filter.genres\")\n",
    "genre_nodes <- genre_filter_node %>% html_nodes(\".genre label\")\n",
    "style_nodes <- genre_filter_node %>% html_nodes(\".style\")\n",
    "\n",
    "\n",
    "for (i in seq_along(genre_nodes)) {\n",
    "  genre_df %<>% rbind(parse_genre_node(genre_nodes[i]))\n",
    "}\n",
    "\n",
    "for (i in seq_along(style_nodes)) {\n",
    "  style_df %<>% rbind(parse_style_node(style_nodes[i]))\n",
    "}\n",
    "\n",
    "write.csv(genre_df, \"./original/genre.csv\", row.names = FALSE)\n",
    "write.csv(style_df, \"./original/style.csv\", row.names = FALSE)"
   ]
  },
  {
   "cell_type": "markdown",
   "id": "f55d8620",
   "metadata": {},
   "source": [
    "### Part 1.2 scrape moods"
   ]
  },
  {
   "cell_type": "code",
   "execution_count": 83,
   "id": "fa51cd5d",
   "metadata": {
    "vscode": {
     "languageId": "r"
    }
   },
   "outputs": [],
   "source": [
    "# define the structure of style data frame\n",
    "mood_df = tribble(\n",
    "  ~id, ~mood\n",
    ")"
   ]
  },
  {
   "cell_type": "code",
   "execution_count": 84,
   "id": "24988b8f",
   "metadata": {
    "vscode": {
     "languageId": "r"
    }
   },
   "outputs": [],
   "source": [
    "parse_mood_node <- function(node) {\n",
    "  return(tibble(\n",
    "    id = node %>% get_attr_value(\"id\"),\n",
    "    mood = node %>% get_attr_value(\"value\")\n",
    "  ))\n",
    "}\n",
    "\n",
    "mood_nodes <- doc %>% html_nodes(\".filter.moods .options input\")\n",
    "\n",
    "for (i in seq_along(mood_nodes)) {\n",
    "  mood_df %<>% rbind(parse_mood_node(mood_nodes[i]))\n",
    "}\n",
    "\n",
    "write.csv(mood_df, \"./original/mood.csv\", row.names = FALSE)"
   ]
  },
  {
   "cell_type": "markdown",
   "id": "cc4d82bd",
   "metadata": {},
   "source": [
    "### Part 1.3 scrape themes"
   ]
  },
  {
   "cell_type": "code",
   "execution_count": 85,
   "id": "4b5ef695",
   "metadata": {
    "vscode": {
     "languageId": "r"
    }
   },
   "outputs": [],
   "source": [
    "# define the structure of style data frame\n",
    "theme_df = tribble(\n",
    "  ~id, ~theme\n",
    ")"
   ]
  },
  {
   "cell_type": "code",
   "execution_count": 86,
   "id": "70e1d6eb",
   "metadata": {
    "vscode": {
     "languageId": "r"
    }
   },
   "outputs": [],
   "source": [
    "parse_theme_node <- function(node) {\n",
    "  return(tibble(\n",
    "    id = node %>% get_attr_value(\"id\"),\n",
    "    theme = node %>% get_attr_value(\"value\")\n",
    "  ))\n",
    "}\n",
    "\n",
    "theme_nodes <- doc %>% html_nodes(\".filter.themes .options input\")\n",
    "\n",
    "for (i in seq_along(theme_nodes)) {\n",
    "  theme_df %<>% rbind(parse_theme_node(theme_nodes[i]))\n",
    "}\n",
    "\n",
    "write.csv(theme_df, \"./original/theme.csv\", row.names = FALSE)"
   ]
  },
  {
   "cell_type": "markdown",
   "id": "4d31afcb",
   "metadata": {},
   "source": [
    "## Part2: scrape albums"
   ]
  },
  {
   "cell_type": "markdown",
   "id": "5ff90c74",
   "metadata": {},
   "source": [
    "In part2, we scrape the details of albums and tracks."
   ]
  },
  {
   "cell_type": "markdown",
   "id": "4ef2b47d",
   "metadata": {},
   "source": [
    "### Part2.1 Function that parse the album"
   ]
  },
  {
   "cell_type": "code",
   "execution_count": 87,
   "id": "53221c4e",
   "metadata": {
    "vscode": {
     "languageId": "r"
    }
   },
   "outputs": [],
   "source": [
    "parse_album <- function(doc) {\n",
    "  title <- doc %>% html_node(\".album-title\") %>% get_text()\n",
    "\n",
    "  album_artist_urls <- c()\n",
    "  album_artist_names <- c()\n",
    "  album_artist_nodes <- doc %>% html_nodes(\".album-artist a\")\n",
    "  for (i in seq_along(album_artist_nodes)) {\n",
    "    album_artist_urls %<>% append(album_artist_nodes[i] %>% get_href())\n",
    "    album_artist_names %<>% append(album_artist_nodes[i] %>% get_text())\n",
    "  }\n",
    "\n",
    "  # get the ratings\n",
    "  all_music_rating <- doc %>% html_node(\".ratings .allmusic-rating\") %>% get_text()\n",
    "\n",
    "  album_info_node <- doc %>% html_node(\".sidebar .basic-info\")\n",
    "  release_date <- album_info_node %>% html_node(\".release-date span\") %>% get_text()\n",
    "  duration <- album_info_node %>% html_node(\".duration span\") %>% get_text()\n",
    "  recording_date <- album_info_node %>% html_node(\".recording-date div\") %>% get_text()\n",
    "\n",
    "  # there might be multiple locations, since it is a list in the html doc\n",
    "  recording_locations = c()\n",
    "  recording_locations_nodes <- album_info_node %>% html_nodes(\".recording-location li\")\n",
    "  for (i in seq_along(recording_locations_nodes)) {\n",
    "    recording_locations %<>% append(recording_locations_nodes[i] %>% get_text())\n",
    "  }\n",
    "\n",
    "  # genres\n",
    "  genre_urls <- c()\n",
    "  genre_names <- c()\n",
    "  genre_nodes <- album_info_node %>% html_nodes(\".genre a\")\n",
    "  for (i in seq_along(genre_nodes)) {\n",
    "    genre_urls %<>% append(genre_nodes[i] %>% get_href())\n",
    "    genre_names %<>% append(genre_nodes[i] %>% get_text())\n",
    "  }\n",
    "\n",
    "  # styles\n",
    "  style_urls <- c()\n",
    "  style_names <- c()\n",
    "  style_nodes <- album_info_node %>% html_nodes(\".styles a\")\n",
    "  for (i in seq_along(style_nodes)) {\n",
    "    style_urls %<>% append(style_nodes[i] %>% get_href())\n",
    "    style_names %<>% append(style_nodes[i] %>% get_text())\n",
    "  }\n",
    "\n",
    "\n",
    "  # get album moods\n",
    "  mood_urls <- c()\n",
    "  mood_names <- c()\n",
    "  mood_nodes <- doc %>% html_nodes(\".sidebar .moods .mood a\")\n",
    "  for (i in seq_along(mood_nodes)) {\n",
    "    mood_urls %<>% append(mood_nodes[i] %>% get_href())\n",
    "    mood_names %<>% append(mood_nodes[i] %>% get_text())\n",
    "  }\n",
    "\n",
    "  # get album themes\n",
    "  theme_urls <- c()\n",
    "  theme_names <- c()\n",
    "  theme_nodes <- doc %>% html_nodes(\".sidebar .themes .theme a\")\n",
    "  for (i in seq_along(theme_nodes)) {\n",
    "    theme_urls %<>% append(theme_nodes[i] %>% get_href())\n",
    "    theme_names %<>% append(theme_nodes[i] %>% get_text())\n",
    "  }\n",
    "\n",
    "  return(tibble(\n",
    "    album = title,\n",
    "    duration = duration,\n",
    "    release_date = release_date,\n",
    "    all_music_rating = all_music_rating,\n",
    "    recording_date = recording_date,\n",
    "    recording_locations = paste(recording_locations, collapse = \";\"),\n",
    "    genre_names = paste(genre_names, collapse = \";\"),\n",
    "    genre_urls = paste(genre_urls, collapse = \";\"),\n",
    "    style_names = paste(style_names, collapse = \";\"),\n",
    "    style_urls = paste(style_urls, collapse = \";\"),\n",
    "    mood_names = paste(mood_names, collapse = \";\"),\n",
    "    mood_urls = paste(mood_urls, collapse = \";\"),\n",
    "    theme_names = paste(theme_names, collapse = \";\"),\n",
    "    theme_urls = paste(theme_urls, collapse = \";\")\n",
    "  ))\n",
    "}"
   ]
  },
  {
   "cell_type": "markdown",
   "id": "765db58f",
   "metadata": {},
   "source": [
    "### Part 2.2 Function that parse the track"
   ]
  },
  {
   "cell_type": "code",
   "execution_count": 88,
   "id": "f088ccd5",
   "metadata": {
    "vscode": {
     "languageId": "r"
    }
   },
   "outputs": [],
   "source": [
    "parse_track <- function(node) {\n",
    "  num <- node %>% html_node(\".tracknum\") %>% get_text()\n",
    "\n",
    "  title_node <- node %>% html_node(\".title-composer .title a\")\n",
    "  title <- title_node %>% get_text()\n",
    "  url <- title_node %>% get_href()\n",
    "\n",
    "  # artist related\n",
    "  composer_names <- c()\n",
    "  composer_urls <- c()\n",
    "  composer_nodes <- node %>% html_nodes(\".title-composer .composer a\")\n",
    "  for(i in seq_along(composer_nodes)) {\n",
    "    composer_urls %<>% append(composer_nodes[i] %>% get_href())\n",
    "    composer_names %<>% append(composer_nodes[i] %>% get_text())\n",
    "  }\n",
    "\n",
    "  performer_urls <- c()\n",
    "  performer_names <- c()\n",
    "  performer_nodes <- node %>% html_nodes(\".performer .primary a\")\n",
    "  for(i in seq_along(performer_nodes)) {\n",
    "    performer_urls %<>% append(performer_nodes[i] %>% get_href())\n",
    "    performer_names %<>% append(performer_nodes[i] %>% get_text())\n",
    "  }\n",
    "\n",
    "  duration <- node %>% html_node(\".time\") %>% get_text()\n",
    "\n",
    "  return(tibble(\n",
    "    num = num,\n",
    "    title = title,\n",
    "    duration = duration,\n",
    "    url = url,\n",
    "    composer_urls = paste(composer_urls, collapse = \";\"),\n",
    "    composer_names = paste(composer_names, collapse = \";\"),\n",
    "    performer_urls = paste(performer_urls, collapse = \";\"),\n",
    "    performer_names = paste(performer_names, collapse = \";\")\n",
    "  ))\n",
    "}"
   ]
  },
  {
   "cell_type": "markdown",
   "id": "f9a65aa9",
   "metadata": {},
   "source": [
    "### Part 2.3 Function that scrape the album page, parse album and tracks"
   ]
  },
  {
   "cell_type": "code",
   "execution_count": 89,
   "id": "d28073f5",
   "metadata": {
    "vscode": {
     "languageId": "r"
    }
   },
   "outputs": [],
   "source": [
    "scrape_album <- function(url) {\n",
    "  doc <- read_html(url)\n",
    "\n",
    "  album <- parse_album(doc)\n",
    "  # add url to album\n",
    "  album %<>% mutate(url = url)\n",
    "\n",
    "  tracks = tibble()\n",
    "  # get the track list and parse the tracks\n",
    "  track_nodes <- doc %>% html_nodes(\".track-listing .track\")\n",
    "\n",
    "  for (i in seq_along(track_nodes)) {\n",
    "    tracks_album <- parse_track(track_nodes[i])\n",
    "    # add url to album\n",
    "    tracks_album %<>% mutate(album_url = url)\n",
    "\n",
    "    tracks %<>% bind_rows(tracks_album)\n",
    "  }\n",
    "\n",
    "  return(list(\n",
    "    album = album,\n",
    "    tracks = tracks\n",
    "  ))\n",
    "}\n"
   ]
  },
  {
   "cell_type": "markdown",
   "id": "80feb3c3",
   "metadata": {},
   "source": [
    "### Part2.4 Function that scrape the album list(advanced search result)"
   ]
  },
  {
   "cell_type": "code",
   "execution_count": 90,
   "id": "e83d735f",
   "metadata": {
    "vscode": {
     "languageId": "r"
    }
   },
   "outputs": [],
   "source": [
    "headers <- c(\n",
    "  \"User-Agent\" = \"Mozilla/5.0 (Macintosh; Intel Mac OS X 10_15_7) AppleWebKit/537.36 (KHTML, like Gecko) Chrome/116.0.0.0 Safari/537.36\",\n",
    "   # This header is crucial or we will get nothing in the response\n",
    "  \"Content-Type\" = \"application/x-www-form-urlencoded; charset=UTF-8\",\n",
    "  # This header is crucial or we will get 404\n",
    "  \"referer\" = \"https://www.allmusic.com/advanced-search\"\n",
    ")"
   ]
  },
  {
   "cell_type": "code",
   "execution_count": 91,
   "id": "228f3d93",
   "metadata": {
    "vscode": {
     "languageId": "r"
    }
   },
   "outputs": [],
   "source": [
    "scrape_albums_by_year_page <- function(year, page) {\n",
    "  cat(glue('scraping page {page} of {year}\\n'))\n",
    "  \n",
    "  # there are some special char in form data that should be encoded, \n",
    "  # here we use raw data to reduce complexity\n",
    "  url <- glue(\"https://www.allmusic.com/advanced-search/results/{page}\")\n",
    "  raw_data <- glue(\"filters%5B%5D=%26releaseYearStart%3Dsy{year}&filters%5B%5D=%26releaseYearEnd%3Dey{year}&sort=\")\n",
    "\n",
    "  response <- POST(url, body = raw_data, add_headers(.headers = headers))\n",
    "  # Check if the request was successful (status code 200)\n",
    "  if (status_code(response) == 200) {\n",
    "    nodes <- response %>% content(\"text\") %>% read_html() %>% html_nodes(\".discography-item-container .cover a\")\n",
    "    album_path_list <- nodes %>% get_href()\n",
    "\n",
    "    albums <- tibble()\n",
    "    tracks <- tibble()\n",
    "    for (i in seq_along(album_path_list)) {\n",
    "      album_url <- glue(base_url, album_path_list[i])\n",
    "\n",
    "      # add some retries if something happens, stop retry after 5 times\n",
    "      retry <- 0\n",
    "      data <- NULL\n",
    "      while (is.null(data) && retry <= 5) {\n",
    "        tryCatch({\n",
    "          retry <- retry + 1\n",
    "          data <- scrape_album(album_url)\n",
    "\n",
    "          albums %<>% bind_rows(data$album)\n",
    "          tracks %<>% bind_rows(data$tracks)\n",
    "\n",
    "          Sys.sleep(0.2)\n",
    "        }, error = function(err) {\n",
    "          cat(glue(\"Error when scrape album {album_url}, attempt {retry}, will stop after retrying 5 times\\n\"))\n",
    "        })\n",
    "      }\n",
    "    }\n",
    "\n",
    "    # save the result by page since we don\"s want loose lots of data if error happens\n",
    "    dir_path <- glue(\"./original/{year}/{page}\")\n",
    "    if (!dir.exists(dir_path)) {\n",
    "      dir.create(dir_path, recursive = TRUE)\n",
    "    }\n",
    "    write.csv(albums, glue(\"{dir_path}/albums.csv\"), row.names = FALSE)\n",
    "    write.csv(tracks, glue(\"{dir_path}/tracks.csv\"), row.names = FALSE)\n",
    "\n",
    "    return(nrow(albums))\n",
    "  } else {\n",
    "    stop(glue(\"Error: {http_status(response)$reason}\\n\"))\n",
    "  }\n",
    "}"
   ]
  },
  {
   "cell_type": "markdown",
   "id": "f2a25eda",
   "metadata": {},
   "source": [
    "### Part 2.5 Actually scrape the album and track data"
   ]
  },
  {
   "cell_type": "markdown",
   "id": "322dd2da",
   "metadata": {},
   "source": [
    "Since the search result does not give the pagination informations, so we assume that if we don't get response from the website, we have iterated all the pages. And we use page as a parameter because the scraping is a time-comsuming process, if something happens and the process is shut down, we can see where it goes by checking the \"original\" folder, so we can contiue the process from the page it stopped."
   ]
  },
  {
   "cell_type": "code",
   "execution_count": 94,
   "id": "8abf05d2",
   "metadata": {
    "vscode": {
     "languageId": "r"
    }
   },
   "outputs": [],
   "source": [
    "year <- 2022\n",
    "page <- 1\n",
    "\n",
    "while (TRUE) {\n",
    "  num <- scrape_albums_by_year_page(year, page)\n",
    "  if (num == 0) {\n",
    "    break\n",
    "  }\n",
    "  page <- page + 1\n",
    "}\n"
   ]
  },
  {
   "cell_type": "markdown",
   "id": "9d61e559",
   "metadata": {},
   "source": [
    "## Limitations\n"
   ]
  },
  {
   "cell_type": "markdown",
   "id": "ecd3adbe",
   "metadata": {},
   "source": []
  }
 ],
 "metadata": {
  "kernelspec": {
   "display_name": "R",
   "language": "R",
   "name": "ir"
  },
  "language_info": {
   "codemirror_mode": "r",
   "file_extension": ".r",
   "mimetype": "text/x-r-source",
   "name": "R",
   "pygments_lexer": "r",
   "version": "4.3.1"
  }
 },
 "nbformat": 4,
 "nbformat_minor": 5
}
