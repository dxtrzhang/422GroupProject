{
 "cells": [
  {
   "cell_type": "code",
   "execution_count": 33,
   "id": "3cce2bcc",
   "metadata": {},
   "outputs": [],
   "source": [
    "using CSV\n",
    "using DataFrames"
   ]
  },
  {
   "cell_type": "code",
   "execution_count": 34,
   "id": "8f9c306e",
   "metadata": {},
   "outputs": [
    {
     "data": {
      "text/html": [
       "<div><div style = \"float: left;\"><span>5×9 DataFrame</span></div><div style = \"clear: both;\"></div></div><div class = \"data-frame\" style = \"overflow-x: scroll;\"><table class = \"data-frame\" style = \"margin-bottom: 6px;\"><thead><tr class = \"header\"><th class = \"rowNumber\" style = \"font-weight: bold; text-align: right;\">Row</th><th style = \"text-align: left;\">num</th><th style = \"text-align: left;\">title</th><th style = \"text-align: left;\">duration</th><th style = \"text-align: left;\">url</th><th style = \"text-align: left;\">composer_urls</th><th style = \"text-align: left;\">composer_names</th><th style = \"text-align: left;\">performer_urls</th><th style = \"text-align: left;\">performer_names</th><th style = \"text-align: left;\">album_url</th></tr><tr class = \"subheader headerLastRow\"><th class = \"rowNumber\" style = \"font-weight: bold; text-align: right;\"></th><th title = \"Int64\" style = \"text-align: left;\">Int64</th><th title = \"String\" style = \"text-align: left;\">String</th><th title = \"Union{Missing, String}\" style = \"text-align: left;\">String?</th><th title = \"String\" style = \"text-align: left;\">String</th><th title = \"Union{Missing, String}\" style = \"text-align: left;\">String?</th><th title = \"Union{Missing, String}\" style = \"text-align: left;\">String?</th><th title = \"String\" style = \"text-align: left;\">String</th><th title = \"String\" style = \"text-align: left;\">String</th><th title = \"String\" style = \"text-align: left;\">String</th></tr></thead><tbody><tr><td class = \"rowNumber\" style = \"font-weight: bold; text-align: right;\">1</td><td style = \"text-align: right;\">1</td><td style = \"text-align: left;\">Praise Our Lord All Ye Gentiles</td><td style = \"text-align: left;\">02:46</td><td style = \"text-align: left;\">https://www.allmusic.com/performance/praise-our-lord-all-ye-gentiles-mq0002563548</td><td style = \"text-align: left;\">https://www.allmusic.com/artist/william-byrd-mn0000804200</td><td style = \"text-align: left;\">William Byrd</td><td style = \"text-align: left;\">https://www.allmusic.com/artist/fretwork-mn0000505763;https://www.allmusic.com/artist/kings-singers-mn0000929562</td><td style = \"text-align: left;\">Fretwork;King&apos;s Singers</td><td style = \"text-align: left;\">https://www.allmusic.com/album/tom-will-weelkes-byrd-400-years-mw0003874125</td></tr><tr><td class = \"rowNumber\" style = \"font-weight: bold; text-align: right;\">2</td><td style = \"text-align: right;\">2</td><td style = \"text-align: left;\">If Women Could Be Fair</td><td style = \"text-align: left;\">03:41</td><td style = \"text-align: left;\">https://www.allmusic.com/performance/if-women-could-be-fair-mq0002563549</td><td style = \"text-align: left;\">https://www.allmusic.com/artist/william-byrd-mn0000804200</td><td style = \"text-align: left;\">William Byrd</td><td style = \"text-align: left;\">https://www.allmusic.com/artist/fretwork-mn0000505763;https://www.allmusic.com/artist/kings-singers-mn0000929562</td><td style = \"text-align: left;\">Fretwork;King&apos;s Singers</td><td style = \"text-align: left;\">https://www.allmusic.com/album/tom-will-weelkes-byrd-400-years-mw0003874125</td></tr><tr><td class = \"rowNumber\" style = \"font-weight: bold; text-align: right;\">3</td><td style = \"text-align: right;\">3</td><td style = \"text-align: left;\">Say Dear, When Will Your Frowning Leave</td><td style = \"text-align: left;\">02:46</td><td style = \"text-align: left;\">https://www.allmusic.com/performance/say-dear-when-will-your-frowning-leave-mq0002563550</td><td style = \"text-align: left;\">https://www.allmusic.com/artist/thomas-weelkes-mn0001596008</td><td style = \"text-align: left;\">Thomas Weelkes</td><td style = \"text-align: left;\">https://www.allmusic.com/artist/fretwork-mn0000505763;https://www.allmusic.com/artist/kings-singers-mn0000929562</td><td style = \"text-align: left;\">Fretwork;King&apos;s Singers</td><td style = \"text-align: left;\">https://www.allmusic.com/album/tom-will-weelkes-byrd-400-years-mw0003874125</td></tr><tr><td class = \"rowNumber\" style = \"font-weight: bold; text-align: right;\">4</td><td style = \"text-align: right;\">4</td><td style = \"text-align: left;\">Like Two Proud Armies</td><td style = \"text-align: left;\">01:41</td><td style = \"text-align: left;\">https://www.allmusic.com/performance/like-two-proud-armies-mq0002563551</td><td style = \"text-align: left;\">https://www.allmusic.com/artist/thomas-weelkes-mn0001596008</td><td style = \"text-align: left;\">Thomas Weelkes</td><td style = \"text-align: left;\">https://www.allmusic.com/artist/fretwork-mn0000505763;https://www.allmusic.com/artist/kings-singers-mn0000929562</td><td style = \"text-align: left;\">Fretwork;King&apos;s Singers</td><td style = \"text-align: left;\">https://www.allmusic.com/album/tom-will-weelkes-byrd-400-years-mw0003874125</td></tr><tr><td class = \"rowNumber\" style = \"font-weight: bold; text-align: right;\">5</td><td style = \"text-align: right;\">5</td><td style = \"text-align: left;\">Pavan No. 3</td><td style = \"text-align: left;\">02:41</td><td style = \"text-align: left;\">https://www.allmusic.com/performance/pavan-no-3-mq0002563552</td><td style = \"text-align: left;\">https://www.allmusic.com/artist/thomas-weelkes-mn0001596008</td><td style = \"text-align: left;\">Thomas Weelkes</td><td style = \"text-align: left;\">https://www.allmusic.com/artist/fretwork-mn0000505763;https://www.allmusic.com/artist/kings-singers-mn0000929562</td><td style = \"text-align: left;\">Fretwork;King&apos;s Singers</td><td style = \"text-align: left;\">https://www.allmusic.com/album/tom-will-weelkes-byrd-400-years-mw0003874125</td></tr></tbody></table></div>"
      ],
      "text/latex": [
       "\\begin{tabular}{r|ccccc}\n",
       "\t& num & title & duration & url & \\\\\n",
       "\t\\hline\n",
       "\t& Int64 & String & String? & String & \\\\\n",
       "\t\\hline\n",
       "\t1 & 1 & Praise Our Lord All Ye Gentiles & 02:46 & https://www.allmusic.com/performance/praise-our-lord-all-ye-gentiles-mq0002563548 & $\\dots$ \\\\\n",
       "\t2 & 2 & If Women Could Be Fair & 03:41 & https://www.allmusic.com/performance/if-women-could-be-fair-mq0002563549 & $\\dots$ \\\\\n",
       "\t3 & 3 & Say Dear, When Will Your Frowning Leave & 02:46 & https://www.allmusic.com/performance/say-dear-when-will-your-frowning-leave-mq0002563550 & $\\dots$ \\\\\n",
       "\t4 & 4 & Like Two Proud Armies & 01:41 & https://www.allmusic.com/performance/like-two-proud-armies-mq0002563551 & $\\dots$ \\\\\n",
       "\t5 & 5 & Pavan No. 3 & 02:41 & https://www.allmusic.com/performance/pavan-no-3-mq0002563552 & $\\dots$ \\\\\n",
       "\\end{tabular}\n"
      ],
      "text/plain": [
       "\u001b[1m5×9 DataFrame\u001b[0m\n",
       "\u001b[1m Row \u001b[0m│\u001b[1m num   \u001b[0m\u001b[1m title                             \u001b[0m\u001b[1m duration \u001b[0m\u001b[1m url                \u001b[0m ⋯\n",
       "     │\u001b[90m Int64 \u001b[0m\u001b[90m String                            \u001b[0m\u001b[90m String?  \u001b[0m\u001b[90m String             \u001b[0m ⋯\n",
       "─────┼──────────────────────────────────────────────────────────────────────────\n",
       "   1 │     1  Praise Our Lord All Ye Gentiles    02:46     https://www.allmusi ⋯\n",
       "   2 │     2  If Women Could Be Fair             03:41     https://www.allmusi\n",
       "   3 │     3  Say Dear, When Will Your Frownin…  02:46     https://www.allmusi\n",
       "   4 │     4  Like Two Proud Armies              01:41     https://www.allmusi\n",
       "   5 │     5  Pavan No. 3                        02:41     https://www.allmusi ⋯\n",
       "\u001b[36m                                                               6 columns omitted\u001b[0m"
      ]
     },
     "metadata": {},
     "output_type": "display_data"
    }
   ],
   "source": [
    "df = DataFrame()\n",
    "origin_path = \"./original\"  # Replace with your directory path\n",
    "\n",
    "# List all files and directories\n",
    "for year in readdir(origin_path)\n",
    "    year_path = joinpath(origin_path, year)\n",
    "    if isdir(year_path)\n",
    "        for page in readdir(year_path)\n",
    "            page_path = joinpath(year_path, page)\n",
    "            if isdir(page_path)\n",
    "                file = joinpath(page_path, \"tracks.csv\")\n",
    "                single = CSV.File(\"./original/2023/1/tracks.csv\") |> DataFrame\n",
    "                append!(df, single)\n",
    "            end\n",
    "        end\n",
    "    end\n",
    "end\n",
    "\n",
    "first(df, 5)\n"
   ]
  },
  {
   "cell_type": "code",
   "execution_count": 35,
   "id": "c30419f8-90ca-403d-8594-5c5b110c5b2a",
   "metadata": {},
   "outputs": [
    {
     "data": {
      "text/plain": [
       "(778, 3)"
      ]
     },
     "metadata": {},
     "output_type": "display_data"
    }
   ],
   "source": [
    "# Define a function to extract ID from a given URL\n",
    "function extract_id_from_url(url::String)\n",
    "    m = match(r\"([a-z]+\\d+)$\", url)\n",
    "    return m === nothing ? \"unknown\" : m.captures[1]\n",
    "end\n",
    "\n",
    "# Create an empty DataFrame for Composers with the specified column names\n",
    "composers = DataFrame(\"Composer ID\" => String[], \"Composer Name\" => String[], \"URL\" => String[])\n",
    "\n",
    "# Populate the Composers DataFrame\n",
    "for i in 1:nrow(df)\n",
    "    # Check for missing values before splitting\n",
    "    composer_urls = ismissing(df[i, :composer_urls]) ? [] : split(df[i, :composer_urls], \";\")\n",
    "    composer_names = ismissing(df[i, :composer_names]) ? [] : split(df[i, :composer_names], \";\")\n",
    "    \n",
    "    for composer_url in composer_urls, composer_name in composer_names\n",
    "        composer_id = extract_id_from_url(String(composer_url))\n",
    "        push!(composers, [composer_id, composer_name, composer_url])\n",
    "    end\n",
    "end\n",
    "\n",
    "# Remove duplicate entries\n",
    "composers = unique!(composers)\n",
    "size(composers)"
   ]
  },
  {
   "cell_type": "code",
   "execution_count": 36,
   "id": "39b1a249-6be3-4cc9-8f72-f5afaae8fc38",
   "metadata": {},
   "outputs": [
    {
     "data": {
      "text/plain": [
       "(83, 3)"
      ]
     },
     "metadata": {},
     "output_type": "display_data"
    }
   ],
   "source": [
    "# Create an empty DataFrame for Performers\n",
    "performers = DataFrame(\"Performer ID\" => String[], \"Performer Name\" => String[], \"URL\" => String[])\n",
    "\n",
    "# Populate the Performers DataFrame\n",
    "for i in 1:nrow(df)\n",
    "    for performer_url in split(df[i, :performer_urls], \";\"), performer_name in split(df[i, :performer_names], \";\")\n",
    "        performer_id = extract_id_from_url(String(performer_url))  # Convert SubString to String here\n",
    "        push!(performers, [performer_id, performer_name, performer_url])\n",
    "    end\n",
    "end\n",
    "\n",
    "# Remove duplicate entries\n",
    "performers = unique!(performers);\n",
    "size(performers)"
   ]
  },
  {
   "cell_type": "code",
   "execution_count": 37,
   "id": "26f37b6d-f2ea-49e0-b546-a0ef6ef0049b",
   "metadata": {},
   "outputs": [
    {
     "data": {
      "text/plain": [
       "(5340, 2)"
      ]
     },
     "metadata": {},
     "output_type": "display_data"
    }
   ],
   "source": [
    "# Create an empty DataFrame for mapping Composers to Tracks\n",
    "composers_tracks_map = DataFrame(\"Composer ID\" => String[], \"Track ID\" => String[])\n",
    "\n",
    "# Populate the mapping DataFrame\n",
    "for i in 1:nrow(df)\n",
    "    track_id = extract_id_from_url(df[i, :url])\n",
    "\n",
    "    composer_urls = ismissing(df[i, :composer_urls]) ? [] : split(df[i, :composer_urls], \";\")\n",
    "    for composer_url in composer_urls\n",
    "        composer_id = extract_id_from_url(String(composer_url))  # Convert SubString to String here\n",
    "        push!(composers_tracks_map, [composer_id, track_id])\n",
    "    end\n",
    "end\n",
    "\n",
    "size(composers_tracks_map)"
   ]
  },
  {
   "cell_type": "code",
   "execution_count": 38,
   "id": "ca49e7ef-de9f-4635-9af1-9734f6af95e3",
   "metadata": {},
   "outputs": [
    {
     "data": {
      "text/plain": [
       "(6114, 2)"
      ]
     },
     "metadata": {},
     "output_type": "display_data"
    }
   ],
   "source": [
    "# Create an empty DataFrame for mapping Performers to Tracks\n",
    "performers_tracks_map = DataFrame(\"Performer ID\" => String[], \"Track ID\" => String[])\n",
    "\n",
    "# Populate the mapping DataFrame\n",
    "for i in 1:nrow(df)\n",
    "    track_id = extract_id_from_url(df[i, :url])\n",
    "    for performer_url in split(df[i, :performer_urls], \";\")\n",
    "        performer_id = extract_id_from_url(String(performer_url))  # Convert SubString to String here\n",
    "        push!(performers_tracks_map, [performer_id, track_id])\n",
    "    end\n",
    "end\n",
    "\n",
    "size(performers_tracks_map)\n"
   ]
  },
  {
   "cell_type": "code",
   "execution_count": 40,
   "id": "69bf9bb1-23eb-4124-a4e9-8daea0b97926",
   "metadata": {},
   "outputs": [],
   "source": [
    "CSV.write(\"wrangled/composers.csv\", composers)\n",
    "CSV.write(\"wrangled/performers.csv\", performers)\n",
    "CSV.write(\"wrangled/composers_tracks_map.csv\", composers_tracks_map)\n",
    "CSV.write(\"wrangled/performers_tracks_map.csv\", performers_tracks_map);\n"
   ]
  }
 ],
 "metadata": {
  "kernelspec": {
   "display_name": "Julia 1.9.3",
   "language": "julia",
   "name": "julia-1.9"
  },
  "language_info": {
   "file_extension": ".jl",
   "mimetype": "application/julia",
   "name": "julia",
   "version": "1.9.3"
  }
 },
 "nbformat": 4,
 "nbformat_minor": 5
}
