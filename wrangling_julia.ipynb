{
 "cells": [
  {
   "cell_type": "code",
   "execution_count": 9,
   "id": "3cce2bcc",
   "metadata": {},
   "outputs": [],
   "source": [
    "using CSV\n",
    "using DataFrames"
   ]
  },
  {
   "cell_type": "code",
   "execution_count": 10,
   "id": "8f9c306e",
   "metadata": {},
   "outputs": [
    {
     "data": {
      "text/html": [
       "<div><div style = \"float: left;\"><span>5×9 DataFrame</span></div><div style = \"clear: both;\"></div></div><div class = \"data-frame\" style = \"overflow-x: scroll;\"><table class = \"data-frame\" style = \"margin-bottom: 6px;\"><thead><tr class = \"header\"><th class = \"rowNumber\" style = \"font-weight: bold; text-align: right;\">Row</th><th style = \"text-align: left;\">num</th><th style = \"text-align: left;\">title</th><th style = \"text-align: left;\">duration</th><th style = \"text-align: left;\">url</th><th style = \"text-align: left;\">composer_urls</th><th style = \"text-align: left;\">composer_names</th><th style = \"text-align: left;\">performer_urls</th><th style = \"text-align: left;\">performer_names</th><th style = \"text-align: left;\">album_url</th></tr><tr class = \"subheader headerLastRow\"><th class = \"rowNumber\" style = \"font-weight: bold; text-align: right;\"></th><th title = \"Int64\" style = \"text-align: left;\">Int64</th><th title = \"String\" style = \"text-align: left;\">String</th><th title = \"Any\" style = \"text-align: left;\">Any</th><th title = \"String\" style = \"text-align: left;\">String</th><th title = \"Union{Missing, String}\" style = \"text-align: left;\">String?</th><th title = \"Union{Missing, String}\" style = \"text-align: left;\">String?</th><th title = \"String\" style = \"text-align: left;\">String</th><th title = \"String\" style = \"text-align: left;\">String</th><th title = \"String\" style = \"text-align: left;\">String</th></tr></thead><tbody><tr><td class = \"rowNumber\" style = \"font-weight: bold; text-align: right;\">1</td><td style = \"text-align: right;\">1</td><td style = \"text-align: left;\">I Don&apos;t Worry About a Thing</td><td style = \"text-align: left;\">02:19</td><td style = \"text-align: left;\">https://www.allmusic.com/song/i-dont-worry-about-a-thing-mt0059358822</td><td style = \"text-align: left;\">https://www.allmusic.com/artist/mose-allison-mn0000927627;https://www.allmusic.com/artist/count-basie-mn0000127044;https://www.allmusic.com/artist/harry-edison-mn0002784146</td><td style = \"text-align: left;\">Mose Allison;Count Basie;Harry Edison</td><td style = \"text-align: left;\">https://www.allmusic.com/artist/mose-allison-mn0000927627</td><td style = \"text-align: left;\">Mose Allison</td><td style = \"text-align: left;\">https://www.allmusic.com/album/complete-atlantic-elektra-albums-1962-1983-mw0003533754</td></tr><tr><td class = \"rowNumber\" style = \"font-weight: bold; text-align: right;\">2</td><td style = \"text-align: right;\">2</td><td style = \"text-align: left;\">It Didn&apos;t Turn Out That Way</td><td style = \"text-align: left;\">02:44</td><td style = \"text-align: left;\">https://www.allmusic.com/song/it-didnt-turn-out-that-way-mt0059358823</td><td style = \"text-align: left;\">https://www.allmusic.com/artist/mose-allison-mn0000927627;https://www.allmusic.com/artist/count-basie-mn0000127044;https://www.allmusic.com/artist/harry-edison-mn0002784146</td><td style = \"text-align: left;\">Mose Allison;Count Basie;Harry Edison</td><td style = \"text-align: left;\">https://www.allmusic.com/artist/mose-allison-mn0000927627</td><td style = \"text-align: left;\">Mose Allison</td><td style = \"text-align: left;\">https://www.allmusic.com/album/complete-atlantic-elektra-albums-1962-1983-mw0003533754</td></tr><tr><td class = \"rowNumber\" style = \"font-weight: bold; text-align: right;\">3</td><td style = \"text-align: right;\">3</td><td style = \"text-align: left;\">Your Mind Is on Vacation</td><td style = \"text-align: left;\">02:38</td><td style = \"text-align: left;\">https://www.allmusic.com/song/your-mind-is-on-vacation-mt0059358824</td><td style = \"text-align: left;\">https://www.allmusic.com/artist/mose-allison-mn0000927627;https://www.allmusic.com/artist/count-basie-mn0000127044;https://www.allmusic.com/artist/harry-edison-mn0002784146</td><td style = \"text-align: left;\">Mose Allison;Count Basie;Harry Edison</td><td style = \"text-align: left;\">https://www.allmusic.com/artist/mose-allison-mn0000927627</td><td style = \"text-align: left;\">Mose Allison</td><td style = \"text-align: left;\">https://www.allmusic.com/album/complete-atlantic-elektra-albums-1962-1983-mw0003533754</td></tr><tr><td class = \"rowNumber\" style = \"font-weight: bold; text-align: right;\">4</td><td style = \"text-align: right;\">4</td><td style = \"text-align: left;\">Let Me See</td><td style = \"text-align: left;\">04:12</td><td style = \"text-align: left;\">https://www.allmusic.com/song/let-me-see-mt0059358825</td><td style = \"text-align: left;\">https://www.allmusic.com/artist/mose-allison-mn0000927627;https://www.allmusic.com/artist/count-basie-mn0000127044;https://www.allmusic.com/artist/harry-edison-mn0002784146</td><td style = \"text-align: left;\">Mose Allison;Count Basie;Harry Edison</td><td style = \"text-align: left;\">https://www.allmusic.com/artist/mose-allison-mn0000927627</td><td style = \"text-align: left;\">Mose Allison</td><td style = \"text-align: left;\">https://www.allmusic.com/album/complete-atlantic-elektra-albums-1962-1983-mw0003533754</td></tr><tr><td class = \"rowNumber\" style = \"font-weight: bold; text-align: right;\">5</td><td style = \"text-align: right;\">5</td><td style = \"text-align: left;\">Everything I Have Is Yours</td><td style = \"text-align: left;\">04:09</td><td style = \"text-align: left;\">https://www.allmusic.com/song/everything-i-have-is-yours-mt0059358826</td><td style = \"text-align: left;\">https://www.allmusic.com/artist/harold-adamson-mn0000665176;https://www.allmusic.com/artist/mose-allison-mn0000927627;https://www.allmusic.com/artist/burton-lane-mn0000011535</td><td style = \"text-align: left;\">Harold Adamson;Mose Allison;Burton Lane</td><td style = \"text-align: left;\">https://www.allmusic.com/artist/mose-allison-mn0000927627</td><td style = \"text-align: left;\">Mose Allison</td><td style = \"text-align: left;\">https://www.allmusic.com/album/complete-atlantic-elektra-albums-1962-1983-mw0003533754</td></tr></tbody></table></div>"
      ],
      "text/latex": [
       "\\begin{tabular}{r|ccccc}\n",
       "\t& num & title & duration & url & \\\\\n",
       "\t\\hline\n",
       "\t& Int64 & String & Any & String & \\\\\n",
       "\t\\hline\n",
       "\t1 & 1 & I Don't Worry About a Thing & 02:19 & https://www.allmusic.com/song/i-dont-worry-about-a-thing-mt0059358822 & $\\dots$ \\\\\n",
       "\t2 & 2 & It Didn't Turn Out That Way & 02:44 & https://www.allmusic.com/song/it-didnt-turn-out-that-way-mt0059358823 & $\\dots$ \\\\\n",
       "\t3 & 3 & Your Mind Is on Vacation & 02:38 & https://www.allmusic.com/song/your-mind-is-on-vacation-mt0059358824 & $\\dots$ \\\\\n",
       "\t4 & 4 & Let Me See & 04:12 & https://www.allmusic.com/song/let-me-see-mt0059358825 & $\\dots$ \\\\\n",
       "\t5 & 5 & Everything I Have Is Yours & 04:09 & https://www.allmusic.com/song/everything-i-have-is-yours-mt0059358826 & $\\dots$ \\\\\n",
       "\\end{tabular}\n"
      ],
      "text/plain": [
       "\u001b[1m5×9 DataFrame\u001b[0m\n",
       "\u001b[1m Row \u001b[0m│\u001b[1m num   \u001b[0m\u001b[1m title                       \u001b[0m\u001b[1m duration \u001b[0m\u001b[1m url                      \u001b[0m ⋯\n",
       "     │\u001b[90m Int64 \u001b[0m\u001b[90m String                      \u001b[0m\u001b[90m Any      \u001b[0m\u001b[90m String                   \u001b[0m ⋯\n",
       "─────┼──────────────────────────────────────────────────────────────────────────\n",
       "   1 │     1  I Don't Worry About a Thing  02:19     https://www.allmusic.com/ ⋯\n",
       "   2 │     2  It Didn't Turn Out That Way  02:44     https://www.allmusic.com/\n",
       "   3 │     3  Your Mind Is on Vacation     02:38     https://www.allmusic.com/\n",
       "   4 │     4  Let Me See                   04:12     https://www.allmusic.com/\n",
       "   5 │     5  Everything I Have Is Yours   04:09     https://www.allmusic.com/ ⋯\n",
       "\u001b[36m                                                               6 columns omitted\u001b[0m"
      ]
     },
     "metadata": {},
     "output_type": "display_data"
    }
   ],
   "source": [
    "df = DataFrame()\n",
    "origin_path = \"./original\"  # Replace with your directory path\n",
    "\n",
    "# List all files and directories\n",
    "for year in readdir(origin_path)\n",
    "    year_path = joinpath(origin_path, year)\n",
    "    if isdir(year_path)\n",
    "        for page in readdir(year_path)\n",
    "            page_path = joinpath(year_path, page)\n",
    "            if isdir(page_path)\n",
    "                file = joinpath(page_path, \"tracks.csv\")\n",
    "                single = CSV.File(file) |> DataFrame\n",
    "                append!(df, single, promote=true)\n",
    "            end\n",
    "        end\n",
    "    end\n",
    "end\n",
    "\n",
    "first(df, 5)\n"
   ]
  },
  {
   "cell_type": "code",
   "execution_count": 11,
   "id": "c30419f8-90ca-403d-8594-5c5b110c5b2a",
   "metadata": {},
   "outputs": [
    {
     "data": {
      "text/plain": [
       "(2054, 3)"
      ]
     },
     "metadata": {},
     "output_type": "display_data"
    }
   ],
   "source": [
    "# Define a function to extract ID from a given URL\n",
    "function extract_id_from_url(url::String)\n",
    "    m = match(r\"([a-z]+\\d+)$\", url)\n",
    "    return m === nothing ? \"unknown\" : m.captures[1]\n",
    "end\n",
    "\n",
    "# Create an empty DataFrame for Composers with the specified column names\n",
    "composers = DataFrame(\"artist_id\" => String[], \"artist_name\" => String[], \"url\" => String[])\n",
    "\n",
    "# Populate the Composers DataFrame\n",
    "for i in 1:nrow(df)\n",
    "    # Check for missing values before splitting\n",
    "    composer_urls = ismissing(df[i, :composer_urls]) ? [] : split(df[i, :composer_urls], \";\")\n",
    "    composer_names = ismissing(df[i, :composer_names]) ? [] : split(df[i, :composer_names], \";\")\n",
    "    \n",
    "    # names and urls should be same size\n",
    "\n",
    "    for i in 1:length(composer_urls)\n",
    "        composer_id = extract_id_from_url(String(composer_urls[i]))\n",
    "        push!(composers, [composer_id, composer_names[i], composer_urls[i]])\n",
    "    end\n",
    "end\n",
    "\n",
    "# Remove duplicate entries\n",
    "composers = unique!(composers);\n",
    "size(composers)"
   ]
  },
  {
   "cell_type": "code",
   "execution_count": 12,
   "id": "39b1a249-6be3-4cc9-8f72-f5afaae8fc38",
   "metadata": {},
   "outputs": [
    {
     "data": {
      "text/plain": [
       "(546, 3)"
      ]
     },
     "metadata": {},
     "output_type": "display_data"
    }
   ],
   "source": [
    "# Create an empty DataFrame for Performers\n",
    "performers = DataFrame(\"artist_id\" => String[], \"artist_name\" => String[], \"url\" => String[])\n",
    "\n",
    "# Populate the Performers DataFrame\n",
    "for i in 1:nrow(df)\n",
    "    for performer_url in split(df[i, :performer_urls], \";\"), performer_name in split(df[i, :performer_names], \";\")\n",
    "        performer_id = extract_id_from_url(String(performer_url))  # Convert SubString to String here\n",
    "        push!(performers, [performer_id, performer_name, performer_url])\n",
    "    end\n",
    "end\n",
    "\n",
    "# Remove duplicate entries\n",
    "performers = unique!(performers);\n",
    "size(performers)"
   ]
  },
  {
   "cell_type": "code",
   "execution_count": 13,
   "id": "26f37b6d-f2ea-49e0-b546-a0ef6ef0049b",
   "metadata": {},
   "outputs": [
    {
     "data": {
      "text/plain": [
       "(8005, 2)"
      ]
     },
     "metadata": {},
     "output_type": "display_data"
    }
   ],
   "source": [
    "# Create an empty DataFrame for mapping Composers to Tracks\n",
    "composers_tracks_map = DataFrame(\"composer_id\" => String[], \"track_id\" => String[])\n",
    "\n",
    "# Populate the mapping DataFrame\n",
    "for i in 1:nrow(df)\n",
    "    track_id = extract_id_from_url(df[i, :url])\n",
    "\n",
    "    composer_urls = ismissing(df[i, :composer_urls]) ? [] : split(df[i, :composer_urls], \";\")\n",
    "    for composer_url in composer_urls\n",
    "        composer_id = extract_id_from_url(String(composer_url))  # Convert SubString to String here\n",
    "        push!(composers_tracks_map, [composer_id, track_id])\n",
    "    end\n",
    "end\n",
    "\n",
    "size(composers_tracks_map)"
   ]
  },
  {
   "cell_type": "code",
   "execution_count": 14,
   "id": "ca49e7ef-de9f-4635-9af1-9734f6af95e3",
   "metadata": {},
   "outputs": [
    {
     "data": {
      "text/plain": [
       "(8184, 2)"
      ]
     },
     "metadata": {},
     "output_type": "display_data"
    }
   ],
   "source": [
    "# Create an empty DataFrame for mapping Performers to Tracks\n",
    "performers_tracks_map = DataFrame(\"performer_id\" => String[], \"track_id\" => String[])\n",
    "\n",
    "# Populate the mapping DataFrame\n",
    "for i in 1:nrow(df)\n",
    "    track_id = extract_id_from_url(df[i, :url])\n",
    "    for performer_url in split(df[i, :performer_urls], \";\")\n",
    "        performer_id = extract_id_from_url(String(performer_url))  # Convert SubString to String here\n",
    "        push!(performers_tracks_map, [performer_id, track_id])\n",
    "    end\n",
    "end\n",
    "\n",
    "size(performers_tracks_map)\n"
   ]
  },
  {
   "cell_type": "code",
   "execution_count": 15,
   "id": "69bf9bb1-23eb-4124-a4e9-8daea0b97926",
   "metadata": {},
   "outputs": [],
   "source": [
    "# since composers and performers are all the same, combine them together into artists\n",
    "artists = DataFrame()\n",
    "append!(artists, composers)\n",
    "append!(artists, performers)\n",
    "artists = unique!(artists);\n",
    "\n",
    "CSV.write(\"wrangled/artists.csv\", artists)\n",
    "CSV.write(\"wrangled/composers_tracks_map.csv\", composers_tracks_map)\n",
    "CSV.write(\"wrangled/performers_tracks_map.csv\", performers_tracks_map);\n"
   ]
  }
 ],
 "metadata": {
  "kernelspec": {
   "display_name": "Julia 1.9.3",
   "language": "julia",
   "name": "julia-1.9"
  },
  "language_info": {
   "file_extension": ".jl",
   "mimetype": "application/julia",
   "name": "julia",
   "version": "1.9.3"
  }
 },
 "nbformat": 4,
 "nbformat_minor": 5
}
