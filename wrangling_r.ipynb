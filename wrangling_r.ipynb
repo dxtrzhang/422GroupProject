{
 "cells": [
  {
   "cell_type": "code",
   "execution_count": 13,
   "id": "7d64807b",
   "metadata": {
    "vscode": {
     "languageId": "r"
    }
   },
   "outputs": [],
   "source": [
    "library(stringr)\n",
    "library(dplyr)\n",
    "library(tidyverse)\n",
    "library(magrittr)\n",
    "library(glue)\n"
   ]
  },
  {
   "cell_type": "code",
   "execution_count": null,
   "id": "3651cd01",
   "metadata": {
    "vscode": {
     "languageId": "r"
    }
   },
   "outputs": [],
   "source": [
    "original_path <- \"./original\"\n",
    "wrangled_path <- \"./wrangled\"\n",
    "if (!dir.exists(wrangled_path)) {\n",
    "  dir.create(wrangled_path, recursive = TRUE)\n",
    "}"
   ]
  },
  {
   "cell_type": "code",
   "execution_count": 14,
   "id": "43092a8d-3853-48cc-b18a-34a1b60d9485",
   "metadata": {
    "vscode": {
     "languageId": "r"
    }
   },
   "outputs": [],
   "source": [
    "wrangle_album <- function(data) {\n",
    "  # Extract album IDs from the url column\n",
    "  data$album_id <- str_extract(data$url, \"mw\\\\d+\")\n",
    "\n",
    "\n",
    "  # Load the dplyr package\n",
    "\n",
    "\n",
    "  # Remove some columns\n",
    "  data <- select(data, -genre_names, -style_names, -mood_names, -theme_names, -recording_date, -recording_locations)\n",
    "\n",
    "\n",
    "  # move the 'id' column to be the first column:\n",
    "\n",
    "  # Get the names of all columns\n",
    "  col_names <- names(data)\n",
    "\n",
    "  # Remove 'id' from the list of column names\n",
    "  col_names <- setdiff(col_names, \"album_id\")\n",
    "\n",
    "  # Combine 'id' as the first column with the rest of the column names\n",
    "  new_order <- c(\"album_id\", col_names)\n",
    "\n",
    "  # Reorder the columns in the data frame\n",
    "  data <- data[, new_order]\n",
    "\n",
    "\n",
    "\n",
    "  # Use the mdy() function to convert the date\n",
    "  data$release_date <- mdy(data$release_date)\n",
    "\n",
    "  # Normalizing Text Data: Ensure text data is in a consistent format (e.g., all lowercase).\n",
    "  data$album <- tolower(data$album)\n",
    "\n",
    "  data <- unique(data)\n",
    "\n",
    "  # Reordering columns to move 'url' to the last\n",
    "  data <- data[, c(setdiff(names(data), \"url\"), \"url\")]\n",
    "\n",
    "\n",
    "  # Remove duplicate rows\n",
    "  data <- distinct(data)\n",
    "\n",
    "  # Rename the 'album' column to 'album_name'\n",
    "  data <- data %>%\n",
    "    rename(album_name = album)\n",
    "\n",
    "  genre_albums_map = tibble()\n",
    "  style_albums_map = tibble()\n",
    "  mood_albums_map = tibble()\n",
    "  theme_albums_map = tibble()\n",
    "  # iterate every row of the dataframe\n",
    "  for (i in 1 : nrow(data)) {\n",
    "    genre_urls <- strsplit(data[i,]$genre_urls, \";\")[[1]]\n",
    "    for (j in 1:length(genre_urls)) {\n",
    "      genre_url = genre_urls[j]\n",
    "      genre_id <- substr(genre_url, start = nchar(genre_url) - 11, nchar(genre_url))\n",
    "      genre_albums_map %<>% bind_rows(\n",
    "        tibble(album_id=data[i,]$album_id, genre_id = genre_id))\n",
    "    }\n",
    "    style_urls <- strsplit(data[i,]$style_urls, \";\")[[1]]\n",
    "    for (j in 1:length(style_urls)) {\n",
    "      style_url = style_urls[j]\n",
    "      style_id <- substr(style_url, start = nchar(style_url) - 11, nchar(style_url))\n",
    "      style_albums_map %<>% bind_rows(\n",
    "        tibble(album_id=data[i,]$album_id, style_id = style_id))\n",
    "    }\n",
    "    mood_urls <- strsplit(data[i,]$mood_urls, \";\")[[1]]\n",
    "    for (j in 1:length(mood_urls)) {\n",
    "      mood_url = mood_urls[j]\n",
    "      mood_id <- substr(mood_url, start = nchar(mood_url) - 11, nchar(mood_url))\n",
    "      mood_albums_map %<>% bind_rows(\n",
    "        tibble(album_id=data[i,]$album_id, mood_id = mood_id))\n",
    "    }\n",
    "    theme_urls <- strsplit(data[i,]$theme_urls, \";\")[[1]]\n",
    "    for (j in 1:length(theme_urls)) {\n",
    "      theme_url = theme_urls[j]\n",
    "      theme_id <- substr(theme_url, start = nchar(theme_url) - 11, nchar(theme_url))\n",
    "      theme_albums_map %<>% bind_rows(\n",
    "        tibble(album_id=data[i,]$album_id, theme_id = theme_id))\n",
    "    }\n",
    "  }\n",
    "\n",
    "  # remove the urls in the data\n",
    "  data <- select(data, -genre_urls, -style_urls, -mood_urls, -theme_urls)\n",
    "\n",
    "  return(list(\n",
    "    albums = data,\n",
    "    genre_albums_map = genre_albums_map,\n",
    "    style_albums_map = style_albums_map,\n",
    "    mood_albums_map = mood_albums_map,\n",
    "    theme_albums_map = theme_albums_map\n",
    "  ))\n",
    "}\n"
   ]
  },
  {
   "cell_type": "code",
   "execution_count": 15,
   "id": "b7192e87-6808-4035-86a9-75d75c308be1",
   "metadata": {
    "vscode": {
     "languageId": "r"
    }
   },
   "outputs": [],
   "source": [
    "wrangle_track <- function(data) {\n",
    "  # remove some columns that needed for this table\n",
    "  data <- select(data, -composer_names, -composer_urls, -performer_names, -performer_urls)\n",
    "\n",
    "\n",
    "  # Extract track IDs from the url column\n",
    "  data$track_id <- str_extract(data$url, \"(mq|mt)\\\\d+\")\n",
    "\n",
    "\n",
    "  # Extract album IDs from the album url column\n",
    "  data$album_id <- str_extract(data$album_url, \"mw\\\\d+\")\n",
    "\n",
    "  data <- select(data, -album_url)\n",
    "\n",
    "\n",
    "  # Rename the 'title' column to 'track_title'\n",
    "  data <- data %>%\n",
    "    rename(track_title = title)\n",
    "\n",
    "  data$track_title <- tolower(data$track_title)\n",
    "\n",
    "\n",
    "  # Reorder the columns\n",
    "  data <- data %>%\n",
    "    select(track_id, num, track_title, duration, album_id, url)\n",
    "\n",
    "  # Remove duplicate rows\n",
    "  data <- distinct(data)\n",
    "\n",
    "  return(data)\n",
    "}"
   ]
  },
  {
   "cell_type": "code",
   "execution_count": 16,
   "id": "8a6ce239",
   "metadata": {
    "vscode": {
     "languageId": "r"
    }
   },
   "outputs": [
    {
     "name": "stderr",
     "output_type": "stream",
     "text": [
      "Warning message:\n",
      "“ 1 failed to parse.”\n"
     ]
    }
   ],
   "source": [
    "\n",
    "\n",
    "albums <- tibble()\n",
    "tracks <- tibble()\n",
    "year_folders <- list.dirs(original_path, full.names = TRUE, recursive = FALSE)\n",
    "for (year_folder in year_folders) {\n",
    "  page_folders <- list.dirs(year_folder, full.names = TRUE, recursive = FALSE)\n",
    "  for (page_folder in page_folders) {\n",
    "    files <- list.files(page_folder, full.names = TRUE, recursive = FALSE)\n",
    "    for (file in files) {\n",
    "      if (endsWith(file, \"albums.csv\")) {\n",
    "        albums %<>% bind_rows(read.csv(file))\n",
    "      }\n",
    "      if (endsWith(file, \"tracks.csv\")) {\n",
    "        tracks %<>% bind_rows(read.csv(file))\n",
    "      }\n",
    "    }\n",
    "  }\n",
    "}\n",
    "\n",
    "data <- wrangle_album(albums)\n",
    "wrangled_tracks <- wrangle_track(tracks)\n",
    "write.csv(data$albums, glue(\"{wrangled_path}/albums.csv\"), row.names = FALSE)\n",
    "write.csv(data$genre_albums_map, glue(\"{wrangled_path}/genre_albums_map.csv\"), row.names = FALSE)\n",
    "write.csv(data$style_albums_map, glue(\"{wrangled_path}/style_albums_map.csv\"), row.names = FALSE)\n",
    "write.csv(data$mood_albums_map, glue(\"{wrangled_path}/mood_albums_map.csv\"), row.names = FALSE)\n",
    "write.csv(data$theme_albums_map, glue(\"{wrangled_path}/theme_albums_map.csv\"), row.names = FALSE)\n",
    "write.csv(wrangled_tracks, glue(\"{wrangled_path}/tracks.csv\"), row.names = FALSE)"
   ]
  },
  {
   "cell_type": "code",
   "execution_count": null,
   "id": "052d89ce-627a-4011-8468-d2199065c737",
   "metadata": {
    "vscode": {
     "languageId": "r"
    }
   },
   "outputs": [],
   "source": []
  }
 ],
 "metadata": {
  "kernelspec": {
   "display_name": "R",
   "language": "R",
   "name": "ir"
  },
  "language_info": {
   "codemirror_mode": "r",
   "file_extension": ".r",
   "mimetype": "text/x-r-source",
   "name": "R",
   "pygments_lexer": "r",
   "version": "4.3.1"
  }
 },
 "nbformat": 4,
 "nbformat_minor": 5
}
