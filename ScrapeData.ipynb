{
 "cells": [
  {
   "cell_type": "code",
   "execution_count": 3,
   "id": "22c4e4b7",
   "metadata": {
    "vscode": {
     "languageId": "r"
    }
   },
   "outputs": [],
   "source": [
    "library(tidyverse)\n",
    "library(magrittr)\n",
    "library(glue)\n",
    "library(rvest)\n",
    "library(polite)\n",
    "library(xml2)\n",
    "library(httr)"
   ]
  },
  {
   "cell_type": "code",
   "execution_count": 4,
   "id": "ea7338cb",
   "metadata": {
    "vscode": {
     "languageId": "r"
    }
   },
   "outputs": [],
   "source": [
    "base_url <- \"https://www.allmusic.com\""
   ]
  },
  {
   "cell_type": "code",
   "execution_count": 5,
   "id": "17b2d40f",
   "metadata": {
    "vscode": {
     "languageId": "r"
    }
   },
   "outputs": [],
   "source": [
    "get_attr_value <- function(node, attr) {\n",
    "  return(node %>% html_attrs() %>% map_chr(attr))\n",
    "}\n",
    "\n",
    "get_href <- function(node) {\n",
    "  return(get_attr_value(node, \"href\"))\n",
    "}\n",
    "\n",
    "get_text <- function(node) {\n",
    "  return(node %>% html_text() %>% trimws())\n",
    "}"
   ]
  },
  {
   "cell_type": "code",
   "execution_count": null,
   "id": "9ae1179b",
   "metadata": {
    "vscode": {
     "languageId": "r"
    }
   },
   "outputs": [],
   "source": []
  },
  {
   "cell_type": "markdown",
   "id": "a4b5738c",
   "metadata": {},
   "source": [
    "### Part 1: scrape genres and styles"
   ]
  },
  {
   "cell_type": "code",
   "execution_count": 6,
   "id": "70e1d6eb",
   "metadata": {
    "vscode": {
     "languageId": "r"
    }
   },
   "outputs": [],
   "source": [
    "# scrape genres and styles, style are sub-category of the genre\n",
    "search_path <- \"/advanced-search\"\n",
    "doc <- read_html(glue(base_url, search_path))\n",
    "\n",
    "# filter using two classes together\n",
    "genre_filter_node <- doc %>% html_nodes(\".filter.genres\")\n",
    "\n",
    "genre_nodes <- genre_filter_node %>% html_nodes(\".genre label\")\n",
    "style_nodes <- genre_filter_node %>% html_nodes(\".style\")"
   ]
  },
  {
   "cell_type": "code",
   "execution_count": 8,
   "id": "875e89ac",
   "metadata": {
    "vscode": {
     "languageId": "r"
    }
   },
   "outputs": [],
   "source": [
    "parse_genre_node <- function(node) {\n",
    "  return(tibble(\n",
    "    id = node %>% html_attrs() %>% map_chr(\"for\"),\n",
    "    genre = node %>% html_text() %>% trimws()\n",
    "  ))\n",
    "}\n",
    "\n",
    "parse_style_node <- function(node) {\n",
    "  return(tibble(\n",
    "    id = node %>% html_nodes(\"label\") %>% html_attrs() %>% map_chr(\"for\"),\n",
    "    style = node %>% html_nodes(\"label\") %>% html_text() %>% trimws(),\n",
    "    genre_id = node %>% html_attrs() %>% map_chr(\"data-parent\")\n",
    "  ))\n",
    "}"
   ]
  },
  {
   "cell_type": "code",
   "execution_count": 9,
   "id": "93215736",
   "metadata": {
    "vscode": {
     "languageId": "r"
    }
   },
   "outputs": [],
   "source": [
    "# define the structure of genre data frame\n",
    "genre_df = tribble(\n",
    "  ~id, ~genre\n",
    ")\n",
    "\n",
    "# define the structure of style data frame\n",
    "style_df = tribble(\n",
    "  ~id, ~style, ~genre_id\n",
    ")\n",
    "\n",
    "for (i in seq_along(genre_nodes)) {\n",
    "  genre_df %<>% rbind(parse_genre_node(genre_nodes[i]))\n",
    "}\n",
    "\n",
    "for (i in seq_along(style_nodes)) {\n",
    "  style_df %<>% rbind(parse_style_node(style_nodes[i]))\n",
    "}\n",
    "\n",
    "write.csv(genre_df, \"./genre.csv\", row.names = FALSE)\n",
    "write.csv(style_df, \"./style.csv\", row.names = FALSE)"
   ]
  },
  {
   "cell_type": "markdown",
   "id": "4d31afcb",
   "metadata": {},
   "source": [
    "### Part2: scrape albums"
   ]
  },
  {
   "cell_type": "code",
   "execution_count": 13,
   "id": "53221c4e",
   "metadata": {
    "vscode": {
     "languageId": "r"
    }
   },
   "outputs": [],
   "source": [
    "parse_album <- function(doc) {\n",
    "  title <- doc %>% html_node(\".album-title\") %>% get_text()\n",
    "\n",
    "  album_artist_urls= c()\n",
    "  album_artist_names= c()\n",
    "  album_artist_nodes <- doc %>% html_nodes(\".album-artist a\")\n",
    "  for (i in seq_along(album_artist_nodes)) {\n",
    "    album_artist_urls %<>% append(album_artist_nodes[i] %>% get_href())\n",
    "    album_artist_names %<>% append(album_artist_nodes[i] %>% get_text())\n",
    "  }\n",
    "\n",
    "  # get the ratings\n",
    "  all_music_rating <- doc %>% html_node(\".ratings .allmusic-rating\") %>% get_text()\n",
    "\n",
    "  # TODO(dexter): should we add review columns?\n",
    "  album_info_node <- doc %>% html_node(\".sidebar .basic-info\")\n",
    "  release_date <- album_info_node %>% html_node(\".release-date span\") %>% get_text()\n",
    "  duration <- album_info_node %>% html_node(\".duration span\") %>% get_text()\n",
    "  recording_date <- album_info_node %>% html_node(\".recording-date div\") %>% get_text()\n",
    "\n",
    "  # there might be multiple locations, since it is a list in the html doc\n",
    "  recording_locations = c()\n",
    "  recording_locations_nodes <- album_info_node %>% html_nodes(\".recording-location li\")\n",
    "  for (i in seq_along(recording_locations_nodes)) {\n",
    "    recording_locations %<>% append(recording_locations_nodes[i] %>% get_text())\n",
    "  }\n",
    "\n",
    "  # genres\n",
    "  genre_urls = c()\n",
    "  genre_names = c()\n",
    "  genre_nodes <- album_info_node %>% html_nodes(\".genre a\")\n",
    "  for (i in seq_along(genre_nodes)) {\n",
    "    genre_urls %<>% append(genre_nodes[i] %>% get_href())\n",
    "    genre_names %<>% append(genre_nodes[i] %>% get_text())\n",
    "  }\n",
    "\n",
    "  # styles\n",
    "  style_urls = c()\n",
    "  style_names = c()\n",
    "  style_nodes <- album_info_node %>% html_nodes(\".styles a\")\n",
    "  for (i in seq_along(style_nodes)) {\n",
    "    style_urls %<>% append(style_nodes[i] %>% get_href())\n",
    "    style_names %<>% append(style_nodes[i] %>% get_text())\n",
    "  }\n",
    "\n",
    "\n",
    "  # get album moods\n",
    "  mood_urls = c()\n",
    "  mood_names = c()\n",
    "  mood_nodes = doc %>% html_nodes(\".sidebar .moods .mood a\")\n",
    "  for (i in seq_along(mood_nodes)) {\n",
    "    mood_urls %<>% append(mood_nodes[i] %>% get_href())\n",
    "    mood_names %<>% append(mood_nodes[i] %>% get_text())\n",
    "  }\n",
    "\n",
    "  # get album themes\n",
    "  theme_urls = c()\n",
    "  theme_names = c()\n",
    "  theme_nodes = doc %>% html_nodes(\".sidebar .themes .theme a\")\n",
    "  for (i in seq_along(theme_nodes)) {\n",
    "    theme_urls %<>% append(theme_nodes[i] %>% get_href())\n",
    "    theme_names %<>% append(theme_nodes[i] %>% get_text())\n",
    "  }\n",
    "\n",
    "  return(tibble(\n",
    "    album = title,\n",
    "    duration = duration,\n",
    "    release_date = release_date,\n",
    "    all_music_rating = all_music_rating,\n",
    "    recording_date = recording_date,\n",
    "    recording_locations = paste(recording_locations, collapse = \";\"),\n",
    "    genre_names = paste(genre_names, collapse = \";\"),\n",
    "    genre_urls = paste(genre_urls, collapse = \";\"),\n",
    "    style_names = paste(style_names, collapse = \";\"),\n",
    "    style_urls = paste(style_urls, collapse = \";\"),\n",
    "    mood_names = paste(mood_names, collapse = \";\"),\n",
    "    mood_urls = paste(mood_urls, collapse = \";\"),\n",
    "    theme_names = paste(theme_names, collapse = \";\"),\n",
    "    theme_urls = paste(theme_urls, collapse = \";\")\n",
    "  ))\n",
    "}"
   ]
  },
  {
   "cell_type": "code",
   "execution_count": 14,
   "id": "f088ccd5",
   "metadata": {
    "vscode": {
     "languageId": "r"
    }
   },
   "outputs": [],
   "source": [
    "parse_track <- function(node) {\n",
    "  num <- node %>% html_node(\".tracknum\") %>% get_text()\n",
    "\n",
    "  title_node <- node %>% html_node(\".title-composer .title a\")\n",
    "  title <- title_node %>% get_text()\n",
    "  url <- title_node %>% get_href()\n",
    "\n",
    "  # artist related\n",
    "  # TODO(dexter): 1:N ? 1:1?\n",
    "  composer_node <- node %>% html_node(\".title-composer .composer a\")\n",
    "  # there may be no composer data, ignore the error when no composer in in the track\n",
    "  composer_name <- NA\n",
    "  composer_url <- NA\n",
    "  result <- tryCatch({\n",
    "    composer_name <- composer_node %>% get_text()\n",
    "    composer_url <- composer_node %>% get_href()\n",
    "  }, error = function(err) {})\n",
    "\n",
    "  performer_urls = c()\n",
    "  performer_names = c()\n",
    "  performer_nodes <- node %>% html_nodes(\".performer .primary a\")\n",
    "  for(i in seq_along(performer_nodes)) {\n",
    "    performer_urls %<>% append(performer_nodes[i] %>% get_href())\n",
    "    performer_names %<>% append(performer_nodes[i] %>% get_text())\n",
    "  }\n",
    "\n",
    "  duration <- node %>% html_node(\".time\") %>% get_text()\n",
    "\n",
    "  return(tibble(\n",
    "    num = num,\n",
    "    title = title,\n",
    "    duration = duration,\n",
    "    url = url,\n",
    "    composer_url = composer_url,\n",
    "    composer_name = composer_name,\n",
    "    performer_urls = paste(performer_urls, collapse = \";\"),\n",
    "    performer_names = paste(performer_names, collapse = \";\")\n",
    "  ))\n",
    "}"
   ]
  },
  {
   "cell_type": "code",
   "execution_count": 15,
   "id": "d28073f5",
   "metadata": {
    "vscode": {
     "languageId": "r"
    }
   },
   "outputs": [
    {
     "data": {
      "text/html": [
       "<dl>\n",
       "\t<dt>$album</dt>\n",
       "\t\t<dd><table class=\"dataframe\">\n",
       "<caption>A tibble: 1 × 15</caption>\n",
       "<thead>\n",
       "\t<tr><th scope=col>album</th><th scope=col>duration</th><th scope=col>release_date</th><th scope=col>all_music_rating</th><th scope=col>recording_date</th><th scope=col>recording_locations</th><th scope=col>genre_names</th><th scope=col>genre_urls</th><th scope=col>style_names</th><th scope=col>style_urls</th><th scope=col>mood_names</th><th scope=col>mood_urls</th><th scope=col>theme_names</th><th scope=col>theme_urls</th><th scope=col>url</th></tr>\n",
       "\t<tr><th scope=col>&lt;chr&gt;</th><th scope=col>&lt;chr&gt;</th><th scope=col>&lt;chr&gt;</th><th scope=col>&lt;chr&gt;</th><th scope=col>&lt;chr&gt;</th><th scope=col>&lt;chr&gt;</th><th scope=col>&lt;chr&gt;</th><th scope=col>&lt;chr&gt;</th><th scope=col>&lt;chr&gt;</th><th scope=col>&lt;chr&gt;</th><th scope=col>&lt;chr&gt;</th><th scope=col>&lt;chr&gt;</th><th scope=col>&lt;chr&gt;</th><th scope=col>&lt;chr&gt;</th><th scope=col>&lt;chr&gt;</th></tr>\n",
       "</thead>\n",
       "<tbody>\n",
       "\t<tr><td>Live: Cookin' with Blue Note at Montreux</td><td>45:22</td><td>December 9, 2022</td><td>10</td><td>NA</td><td></td><td>R&amp;B;Jazz</td><td>https://www.allmusic.com/genre/r-b-ma0000002809;https://www.allmusic.com/genre/jazz-ma0000002674</td><td>Crossover Jazz;Funk;Jazz-Funk;Jazz Instrument;Trumpet Jazz</td><td>https://www.allmusic.com/style/crossover-jazz-ma0000012142;https://www.allmusic.com/style/funk-ma0000002606;https://www.allmusic.com/style/jazz-funk-ma0000011905;https://www.allmusic.com/style/jazz-instrument-ma0000002947;https://www.allmusic.com/style/trumpet-jazz-ma0000002485</td><td>Confident;Hedonistic;Sophisticated;Amiable/Good-Natured;Celebratory;Street-Smart;Stylish;Brassy;Driving;Earthy;Fierce;Freewheeling;Gritty;Improvisatory;Kinetic;Powerful;Rollicking;Rousing;Swaggering;Tight;Uplifting;Visceral</td><td>https://www.allmusic.com/mood/confident-xa0000000748;https://www.allmusic.com/mood/hedonistic-xa0000001018;https://www.allmusic.com/mood/sophisticated-xa0000001100;https://www.allmusic.com/mood/amiable-good-natured-xa0000000934;https://www.allmusic.com/mood/celebratory-xa0000000703;https://www.allmusic.com/mood/street-smart-xa0000001112;https://www.allmusic.com/mood/stylish-xa0000001113;https://www.allmusic.com/mood/brassy-xa0000000950;https://www.allmusic.com/mood/driving-xa0000000978;https://www.allmusic.com/mood/earthy-xa0000000981;https://www.allmusic.com/mood/fierce-xa0000001001;https://www.allmusic.com/mood/freewheeling-xa0000001005;https://www.allmusic.com/mood/gritty-xa0000001014;https://www.allmusic.com/mood/improvisatory-xa0000001023;https://www.allmusic.com/mood/kinetic-xa0000001030;https://www.allmusic.com/mood/powerful-xa0000000747;https://www.allmusic.com/mood/rollicking-xa0000001080;https://www.allmusic.com/mood/rousing-xa0000000759;https://www.allmusic.com/mood/swaggering-xa0000001118;https://www.allmusic.com/mood/tight-xa0000001448;https://www.allmusic.com/mood/uplifting-xa0000001132;https://www.allmusic.com/mood/visceral-xa0000001135</td><td>Guys Night Out;TGIF;Girls Night Out;Partying</td><td>https://www.allmusic.com/theme/guys-night-out-ma0000006291;https://www.allmusic.com/theme/tgif-ma0000006308;https://www.allmusic.com/theme/girls-night-out-ma0000006292;https://www.allmusic.com/theme/partying-ma0000004272</td><td>https://www.allmusic.com/album/live-cookin-with-blue-note-at-montreux-mw0003845952</td></tr>\n",
       "</tbody>\n",
       "</table>\n",
       "</dd>\n",
       "\t<dt>$tracks</dt>\n",
       "\t\t<dd><table class=\"dataframe\">\n",
       "<caption>A tibble: 6 × 8</caption>\n",
       "<thead>\n",
       "\t<tr><th scope=col>num</th><th scope=col>title</th><th scope=col>duration</th><th scope=col>url</th><th scope=col>composer_url</th><th scope=col>composer_name</th><th scope=col>performer_urls</th><th scope=col>performer_names</th></tr>\n",
       "\t<tr><th scope=col>&lt;chr&gt;</th><th scope=col>&lt;chr&gt;</th><th scope=col>&lt;chr&gt;</th><th scope=col>&lt;chr&gt;</th><th scope=col>&lt;chr&gt;</th><th scope=col>&lt;chr&gt;</th><th scope=col>&lt;chr&gt;</th><th scope=col>&lt;chr&gt;</th></tr>\n",
       "</thead>\n",
       "<tbody>\n",
       "\t<tr><td>1</td><td>Black Byrd            </td><td>08:11</td><td>https://www.allmusic.com/song/black-byrd-mt0061536559           </td><td>https://www.allmusic.com/artist/laurence-mizell-mn0000785399</td><td>Laurence Mizell</td><td>https://www.allmusic.com/artist/donald-byrd-mn0000149946</td><td>Donald Byrd</td></tr>\n",
       "\t<tr><td>2</td><td>You've Got It Bad Girl</td><td>07:42</td><td>https://www.allmusic.com/song/youve-got-it-bad-girl-mt0061536560</td><td>https://www.allmusic.com/artist/stevie-wonder-mn0000622805  </td><td>Stevie Wonder  </td><td>https://www.allmusic.com/artist/donald-byrd-mn0000149946</td><td>Donald Byrd</td></tr>\n",
       "\t<tr><td>3</td><td>The East              </td><td>09:19</td><td>https://www.allmusic.com/song/the-east-mt0061536561             </td><td>https://www.allmusic.com/artist/donald-byrd-mn0000149946    </td><td>Donald Byrd    </td><td>https://www.allmusic.com/artist/donald-byrd-mn0000149946</td><td>Donald Byrd</td></tr>\n",
       "\t<tr><td>4</td><td>Introductions         </td><td>02:58</td><td>https://www.allmusic.com/song/introductions-mt0061536562        </td><td>NA                                                          </td><td>NA             </td><td>https://www.allmusic.com/artist/donald-byrd-mn0000149946</td><td>Donald Byrd</td></tr>\n",
       "\t<tr><td>5</td><td>Kwame                 </td><td>11:50</td><td>https://www.allmusic.com/song/kwame-mt0061536563                </td><td>https://www.allmusic.com/artist/donald-byrd-mn0000149946    </td><td>Donald Byrd    </td><td>https://www.allmusic.com/artist/donald-byrd-mn0000149946</td><td>Donald Byrd</td></tr>\n",
       "\t<tr><td>6</td><td>Poco-Mania            </td><td>05:22</td><td>https://www.allmusic.com/song/poco-mania-mt0061536564           </td><td>https://www.allmusic.com/artist/donald-byrd-mn0000149946    </td><td>Donald Byrd    </td><td>https://www.allmusic.com/artist/donald-byrd-mn0000149946</td><td>Donald Byrd</td></tr>\n",
       "</tbody>\n",
       "</table>\n",
       "</dd>\n",
       "</dl>\n"
      ],
      "text/latex": [
       "\\begin{description}\n",
       "\\item[\\$album] A tibble: 1 × 15\n",
       "\\begin{tabular}{lllllllllllllll}\n",
       " album & duration & release\\_date & all\\_music\\_rating & recording\\_date & recording\\_locations & genre\\_names & genre\\_urls & style\\_names & style\\_urls & mood\\_names & mood\\_urls & theme\\_names & theme\\_urls & url\\\\\n",
       " <chr> & <chr> & <chr> & <chr> & <chr> & <chr> & <chr> & <chr> & <chr> & <chr> & <chr> & <chr> & <chr> & <chr> & <chr>\\\\\n",
       "\\hline\n",
       "\t Live: Cookin' with Blue Note at Montreux & 45:22 & December 9, 2022 & 10 & NA &  & R\\&B;Jazz & https://www.allmusic.com/genre/r-b-ma0000002809;https://www.allmusic.com/genre/jazz-ma0000002674 & Crossover Jazz;Funk;Jazz-Funk;Jazz Instrument;Trumpet Jazz & https://www.allmusic.com/style/crossover-jazz-ma0000012142;https://www.allmusic.com/style/funk-ma0000002606;https://www.allmusic.com/style/jazz-funk-ma0000011905;https://www.allmusic.com/style/jazz-instrument-ma0000002947;https://www.allmusic.com/style/trumpet-jazz-ma0000002485 & Confident;Hedonistic;Sophisticated;Amiable/Good-Natured;Celebratory;Street-Smart;Stylish;Brassy;Driving;Earthy;Fierce;Freewheeling;Gritty;Improvisatory;Kinetic;Powerful;Rollicking;Rousing;Swaggering;Tight;Uplifting;Visceral & https://www.allmusic.com/mood/confident-xa0000000748;https://www.allmusic.com/mood/hedonistic-xa0000001018;https://www.allmusic.com/mood/sophisticated-xa0000001100;https://www.allmusic.com/mood/amiable-good-natured-xa0000000934;https://www.allmusic.com/mood/celebratory-xa0000000703;https://www.allmusic.com/mood/street-smart-xa0000001112;https://www.allmusic.com/mood/stylish-xa0000001113;https://www.allmusic.com/mood/brassy-xa0000000950;https://www.allmusic.com/mood/driving-xa0000000978;https://www.allmusic.com/mood/earthy-xa0000000981;https://www.allmusic.com/mood/fierce-xa0000001001;https://www.allmusic.com/mood/freewheeling-xa0000001005;https://www.allmusic.com/mood/gritty-xa0000001014;https://www.allmusic.com/mood/improvisatory-xa0000001023;https://www.allmusic.com/mood/kinetic-xa0000001030;https://www.allmusic.com/mood/powerful-xa0000000747;https://www.allmusic.com/mood/rollicking-xa0000001080;https://www.allmusic.com/mood/rousing-xa0000000759;https://www.allmusic.com/mood/swaggering-xa0000001118;https://www.allmusic.com/mood/tight-xa0000001448;https://www.allmusic.com/mood/uplifting-xa0000001132;https://www.allmusic.com/mood/visceral-xa0000001135 & Guys Night Out;TGIF;Girls Night Out;Partying & https://www.allmusic.com/theme/guys-night-out-ma0000006291;https://www.allmusic.com/theme/tgif-ma0000006308;https://www.allmusic.com/theme/girls-night-out-ma0000006292;https://www.allmusic.com/theme/partying-ma0000004272 & https://www.allmusic.com/album/live-cookin-with-blue-note-at-montreux-mw0003845952\\\\\n",
       "\\end{tabular}\n",
       "\n",
       "\\item[\\$tracks] A tibble: 6 × 8\n",
       "\\begin{tabular}{llllllll}\n",
       " num & title & duration & url & composer\\_url & composer\\_name & performer\\_urls & performer\\_names\\\\\n",
       " <chr> & <chr> & <chr> & <chr> & <chr> & <chr> & <chr> & <chr>\\\\\n",
       "\\hline\n",
       "\t 1 & Black Byrd             & 08:11 & https://www.allmusic.com/song/black-byrd-mt0061536559            & https://www.allmusic.com/artist/laurence-mizell-mn0000785399 & Laurence Mizell & https://www.allmusic.com/artist/donald-byrd-mn0000149946 & Donald Byrd\\\\\n",
       "\t 2 & You've Got It Bad Girl & 07:42 & https://www.allmusic.com/song/youve-got-it-bad-girl-mt0061536560 & https://www.allmusic.com/artist/stevie-wonder-mn0000622805   & Stevie Wonder   & https://www.allmusic.com/artist/donald-byrd-mn0000149946 & Donald Byrd\\\\\n",
       "\t 3 & The East               & 09:19 & https://www.allmusic.com/song/the-east-mt0061536561              & https://www.allmusic.com/artist/donald-byrd-mn0000149946     & Donald Byrd     & https://www.allmusic.com/artist/donald-byrd-mn0000149946 & Donald Byrd\\\\\n",
       "\t 4 & Introductions          & 02:58 & https://www.allmusic.com/song/introductions-mt0061536562         & NA                                                           & NA              & https://www.allmusic.com/artist/donald-byrd-mn0000149946 & Donald Byrd\\\\\n",
       "\t 5 & Kwame                  & 11:50 & https://www.allmusic.com/song/kwame-mt0061536563                 & https://www.allmusic.com/artist/donald-byrd-mn0000149946     & Donald Byrd     & https://www.allmusic.com/artist/donald-byrd-mn0000149946 & Donald Byrd\\\\\n",
       "\t 6 & Poco-Mania             & 05:22 & https://www.allmusic.com/song/poco-mania-mt0061536564            & https://www.allmusic.com/artist/donald-byrd-mn0000149946     & Donald Byrd     & https://www.allmusic.com/artist/donald-byrd-mn0000149946 & Donald Byrd\\\\\n",
       "\\end{tabular}\n",
       "\n",
       "\\end{description}\n"
      ],
      "text/markdown": [
       "$album\n",
       ":   \n",
       "A tibble: 1 × 15\n",
       "\n",
       "| album &lt;chr&gt; | duration &lt;chr&gt; | release_date &lt;chr&gt; | all_music_rating &lt;chr&gt; | recording_date &lt;chr&gt; | recording_locations &lt;chr&gt; | genre_names &lt;chr&gt; | genre_urls &lt;chr&gt; | style_names &lt;chr&gt; | style_urls &lt;chr&gt; | mood_names &lt;chr&gt; | mood_urls &lt;chr&gt; | theme_names &lt;chr&gt; | theme_urls &lt;chr&gt; | url &lt;chr&gt; |\n",
       "|---|---|---|---|---|---|---|---|---|---|---|---|---|---|---|\n",
       "| Live: Cookin' with Blue Note at Montreux | 45:22 | December 9, 2022 | 10 | NA | <!----> | R&amp;B;Jazz | https://www.allmusic.com/genre/r-b-ma0000002809;https://www.allmusic.com/genre/jazz-ma0000002674 | Crossover Jazz;Funk;Jazz-Funk;Jazz Instrument;Trumpet Jazz | https://www.allmusic.com/style/crossover-jazz-ma0000012142;https://www.allmusic.com/style/funk-ma0000002606;https://www.allmusic.com/style/jazz-funk-ma0000011905;https://www.allmusic.com/style/jazz-instrument-ma0000002947;https://www.allmusic.com/style/trumpet-jazz-ma0000002485 | Confident;Hedonistic;Sophisticated;Amiable/Good-Natured;Celebratory;Street-Smart;Stylish;Brassy;Driving;Earthy;Fierce;Freewheeling;Gritty;Improvisatory;Kinetic;Powerful;Rollicking;Rousing;Swaggering;Tight;Uplifting;Visceral | https://www.allmusic.com/mood/confident-xa0000000748;https://www.allmusic.com/mood/hedonistic-xa0000001018;https://www.allmusic.com/mood/sophisticated-xa0000001100;https://www.allmusic.com/mood/amiable-good-natured-xa0000000934;https://www.allmusic.com/mood/celebratory-xa0000000703;https://www.allmusic.com/mood/street-smart-xa0000001112;https://www.allmusic.com/mood/stylish-xa0000001113;https://www.allmusic.com/mood/brassy-xa0000000950;https://www.allmusic.com/mood/driving-xa0000000978;https://www.allmusic.com/mood/earthy-xa0000000981;https://www.allmusic.com/mood/fierce-xa0000001001;https://www.allmusic.com/mood/freewheeling-xa0000001005;https://www.allmusic.com/mood/gritty-xa0000001014;https://www.allmusic.com/mood/improvisatory-xa0000001023;https://www.allmusic.com/mood/kinetic-xa0000001030;https://www.allmusic.com/mood/powerful-xa0000000747;https://www.allmusic.com/mood/rollicking-xa0000001080;https://www.allmusic.com/mood/rousing-xa0000000759;https://www.allmusic.com/mood/swaggering-xa0000001118;https://www.allmusic.com/mood/tight-xa0000001448;https://www.allmusic.com/mood/uplifting-xa0000001132;https://www.allmusic.com/mood/visceral-xa0000001135 | Guys Night Out;TGIF;Girls Night Out;Partying | https://www.allmusic.com/theme/guys-night-out-ma0000006291;https://www.allmusic.com/theme/tgif-ma0000006308;https://www.allmusic.com/theme/girls-night-out-ma0000006292;https://www.allmusic.com/theme/partying-ma0000004272 | https://www.allmusic.com/album/live-cookin-with-blue-note-at-montreux-mw0003845952 |\n",
       "\n",
       "\n",
       "$tracks\n",
       ":   \n",
       "A tibble: 6 × 8\n",
       "\n",
       "| num &lt;chr&gt; | title &lt;chr&gt; | duration &lt;chr&gt; | url &lt;chr&gt; | composer_url &lt;chr&gt; | composer_name &lt;chr&gt; | performer_urls &lt;chr&gt; | performer_names &lt;chr&gt; |\n",
       "|---|---|---|---|---|---|---|---|\n",
       "| 1 | Black Byrd             | 08:11 | https://www.allmusic.com/song/black-byrd-mt0061536559            | https://www.allmusic.com/artist/laurence-mizell-mn0000785399 | Laurence Mizell | https://www.allmusic.com/artist/donald-byrd-mn0000149946 | Donald Byrd |\n",
       "| 2 | You've Got It Bad Girl | 07:42 | https://www.allmusic.com/song/youve-got-it-bad-girl-mt0061536560 | https://www.allmusic.com/artist/stevie-wonder-mn0000622805   | Stevie Wonder   | https://www.allmusic.com/artist/donald-byrd-mn0000149946 | Donald Byrd |\n",
       "| 3 | The East               | 09:19 | https://www.allmusic.com/song/the-east-mt0061536561              | https://www.allmusic.com/artist/donald-byrd-mn0000149946     | Donald Byrd     | https://www.allmusic.com/artist/donald-byrd-mn0000149946 | Donald Byrd |\n",
       "| 4 | Introductions          | 02:58 | https://www.allmusic.com/song/introductions-mt0061536562         | NA                                                           | NA              | https://www.allmusic.com/artist/donald-byrd-mn0000149946 | Donald Byrd |\n",
       "| 5 | Kwame                  | 11:50 | https://www.allmusic.com/song/kwame-mt0061536563                 | https://www.allmusic.com/artist/donald-byrd-mn0000149946     | Donald Byrd     | https://www.allmusic.com/artist/donald-byrd-mn0000149946 | Donald Byrd |\n",
       "| 6 | Poco-Mania             | 05:22 | https://www.allmusic.com/song/poco-mania-mt0061536564            | https://www.allmusic.com/artist/donald-byrd-mn0000149946     | Donald Byrd     | https://www.allmusic.com/artist/donald-byrd-mn0000149946 | Donald Byrd |\n",
       "\n",
       "\n",
       "\n",
       "\n"
      ],
      "text/plain": [
       "$album\n",
       "\u001b[90m# A tibble: 1 × 15\u001b[39m\n",
       "  album                    duration release_date all_music_rating recording_date\n",
       "  \u001b[3m\u001b[90m<chr>\u001b[39m\u001b[23m                    \u001b[3m\u001b[90m<chr>\u001b[39m\u001b[23m    \u001b[3m\u001b[90m<chr>\u001b[39m\u001b[23m        \u001b[3m\u001b[90m<chr>\u001b[39m\u001b[23m            \u001b[3m\u001b[90m<chr>\u001b[39m\u001b[23m         \n",
       "\u001b[90m1\u001b[39m Live: Cookin' with Blue… 45:22    December 9,… 10               \u001b[31mNA\u001b[39m            \n",
       "\u001b[90m# ℹ 10 more variables: recording_locations <chr>, genre_names <chr>,\u001b[39m\n",
       "\u001b[90m#   genre_urls <chr>, style_names <chr>, style_urls <chr>, mood_names <chr>,\u001b[39m\n",
       "\u001b[90m#   mood_urls <chr>, theme_names <chr>, theme_urls <chr>, url <chr>\u001b[39m\n",
       "\n",
       "$tracks\n",
       "\u001b[90m# A tibble: 6 × 8\u001b[39m\n",
       "  num   title           duration url   composer_url composer_name performer_urls\n",
       "  \u001b[3m\u001b[90m<chr>\u001b[39m\u001b[23m \u001b[3m\u001b[90m<chr>\u001b[39m\u001b[23m           \u001b[3m\u001b[90m<chr>\u001b[39m\u001b[23m    \u001b[3m\u001b[90m<chr>\u001b[39m\u001b[23m \u001b[3m\u001b[90m<chr>\u001b[39m\u001b[23m        \u001b[3m\u001b[90m<chr>\u001b[39m\u001b[23m         \u001b[3m\u001b[90m<chr>\u001b[39m\u001b[23m         \n",
       "\u001b[90m1\u001b[39m 1     Black Byrd      08:11    http… https://www… Laurence Miz… https://www.a…\n",
       "\u001b[90m2\u001b[39m 2     You've Got It … 07:42    http… https://www… Stevie Wonder https://www.a…\n",
       "\u001b[90m3\u001b[39m 3     The East        09:19    http… https://www… Donald Byrd   https://www.a…\n",
       "\u001b[90m4\u001b[39m 4     Introductions   02:58    http… \u001b[31mNA\u001b[39m           \u001b[31mNA\u001b[39m            https://www.a…\n",
       "\u001b[90m5\u001b[39m 5     Kwame           11:50    http… https://www… Donald Byrd   https://www.a…\n",
       "\u001b[90m6\u001b[39m 6     Poco-Mania      05:22    http… https://www… Donald Byrd   https://www.a…\n",
       "\u001b[90m# ℹ 1 more variable: performer_names <chr>\u001b[39m\n"
      ]
     },
     "metadata": {},
     "output_type": "display_data"
    }
   ],
   "source": [
    "scrape_album <- function(url) {\n",
    "  doc <- read_html(url)\n",
    "\n",
    "  album <- parse_album(doc)\n",
    "  # add url to album\n",
    "  album %<>% mutate(url = url)\n",
    "\n",
    "  tracks = tibble()\n",
    "  # get the track list and parse the tracks\n",
    "  track_nodes <- doc %>% html_nodes(\".track-listing .track\")\n",
    "\n",
    "  for(i in seq_along(track_nodes)) {\n",
    "    track <- parse_track(track_nodes[i])\n",
    "    tracks %<>% bind_rows(track)\n",
    "  }\n",
    "\n",
    "  return(list(\n",
    "    album = album,\n",
    "    tracks = tracks\n",
    "  ))\n",
    "}\n"
   ]
  },
  {
   "cell_type": "code",
   "execution_count": 12,
   "id": "e83d735f",
   "metadata": {
    "vscode": {
     "languageId": "r"
    }
   },
   "outputs": [],
   "source": [
    "headers <- c(\n",
    "  \"User-Agent\" = \"Mozilla/5.0 (Macintosh; Intel Mac OS X 10_15_7) AppleWebKit/537.36 (KHTML, like Gecko) Chrome/116.0.0.0 Safari/537.36\",\n",
    "   # This header is crucial or we will get nothing in the response\n",
    "  \"Content-Type\" = \"application/x-www-form-urlencoded; charset=UTF-8\",\n",
    "  # This header is crucial or we will get 404\n",
    "  \"referer\" = \"https://www.allmusic.com/advanced-search\"\n",
    ")"
   ]
  },
  {
   "cell_type": "code",
   "execution_count": 13,
   "id": "228f3d93",
   "metadata": {
    "vscode": {
     "languageId": "r"
    }
   },
   "outputs": [],
   "source": [
    "scrape_albums_by_year_page <- function(year, page) {\n",
    "  # there are some special char in form data that should be encoded, \n",
    "  # here we use raw data to reduce complexity\n",
    "  url <- glue(\"https://www.allmusic.com/advanced-search/results/{page}\")\n",
    "  raw_data <- glue(\"filters%5B%5D=%26releaseYearStart%3Dsy{year}&filters%5B%5D=%26releaseYearEnd%3Dey{year}&sort=\")\n",
    "\n",
    "  response <- POST(url, body = raw_data, add_headers(.headers = headers))\n",
    "  # Check if the request was successful (status code 200)\n",
    "  if (status_code(response) == 200) {\n",
    "    nodes <- response %>% content(\"text\") %>% read_html() %>% html_nodes(\".discography-item-container .cover a\")\n",
    "    album_path_list <- nodes %>% html_attrs() %>% map_chr(\"href\")\n",
    "\n",
    "    albums <- tibble()\n",
    "    tracks <- tibble()\n",
    "    for (i in seq_along(album_path_list)) {\n",
    "      album_url <- glue(base_url, album_path_list[i])\n",
    "      tryCatch({\n",
    "        data = scrape_album(album_url)\n",
    "\n",
    "        albums %<>% bind_rows(data$album)\n",
    "        tracks %<>% bind_rows(data$tracks)\n",
    "\n",
    "        Sys.sleep(0.5)\n",
    "      }, error = function(err) {\n",
    "        cat(glue(\"Error when scrape album {album_url}\"))\n",
    "        stop(err)\n",
    "      })\n",
    "    }\n",
    "\n",
    "    # save the result by page since we don\"s want loose lots of data if error happens\n",
    "    dir_path <- glue(\"./data/{year}/{page}\")\n",
    "    if (!dir.exists(dir_path)) {\n",
    "      dir.create(dir_path, recursive = TRUE)\n",
    "    }\n",
    "    write.csv(albums, glue(\"{dir_path}/albums.csv\"), row.names = FALSE)\n",
    "    write.csv(tracks, glue(\"{dir_path}/tracks.csv\"), row.names = FALSE)\n",
    "\n",
    "    return(nrow(albums))\n",
    "  } else {\n",
    "    stop(glue(\"Error: {http_status(response)$reason}\\n\"))\n",
    "  }\n",
    "}"
   ]
  },
  {
   "cell_type": "code",
   "execution_count": 15,
   "id": "8abf05d2",
   "metadata": {
    "vscode": {
     "languageId": "r"
    }
   },
   "outputs": [
    {
     "name": "stdout",
     "output_type": "stream",
     "text": [
      "Error when scrape album https://www.allmusic.com/album/strauss-mw0003652556"
     ]
    },
    {
     "ename": "ERROR",
     "evalue": "Error in open.connection(x, \"rb\"): Timeout was reached: [www.allmusic.com] SSL connection timeout\n",
     "output_type": "error",
     "traceback": [
      "Error in open.connection(x, \"rb\"): Timeout was reached: [www.allmusic.com] SSL connection timeout\nTraceback:\n",
      "1. scrape_albums_by_year_page(2022, 2)",
      "2. tryCatch({\n .     data = scrape_album(album_url)\n .     albums %<>% bind_rows(data$album)\n .     tracks %<>% bind_rows(data$tracks)\n .     Sys.sleep(0.5)\n . }, error = function(err) {\n .     cat(glue(\"Error when scrape album {album_url}\"))\n .     stop(err)\n . })   # at line 17-27 of file <text>",
      "3. tryCatchList(expr, classes, parentenv, handlers)",
      "4. tryCatchOne(expr, names, parentenv, handlers[[1L]])",
      "5. value[[3L]](cond)"
     ]
    }
   ],
   "source": [
    "scrape_albums_by_year_page(2022, 2)"
   ]
  }
 ],
 "metadata": {
  "kernelspec": {
   "display_name": "R",
   "language": "R",
   "name": "ir"
  },
  "language_info": {
   "codemirror_mode": "r",
   "file_extension": ".r",
   "mimetype": "text/x-r-source",
   "name": "R",
   "pygments_lexer": "r",
   "version": "4.3.1"
  }
 },
 "nbformat": 4,
 "nbformat_minor": 5
}
