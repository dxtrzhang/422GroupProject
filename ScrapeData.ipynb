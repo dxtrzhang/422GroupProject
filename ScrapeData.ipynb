{
 "cells": [
  {
   "cell_type": "code",
   "execution_count": 44,
   "id": "22c4e4b7",
   "metadata": {},
   "outputs": [],
   "source": [
    "library(tidyverse)\n",
    "library(magrittr)\n",
    "library(glue)\n",
    "library(rvest)\n",
    "library(polite)\n",
    "library(xml2)\n",
    "library(httr)"
   ]
  },
  {
   "cell_type": "markdown",
   "id": "a4b5738c",
   "metadata": {},
   "source": [
    "### Part 1: scrape genres and styles"
   ]
  },
  {
   "cell_type": "code",
   "execution_count": 39,
   "id": "70e1d6eb",
   "metadata": {},
   "outputs": [],
   "source": [
    "# scrape genres and styles, style are sub-category of the genre\n",
    "base_url <- 'https://www.allmusic.com/advanced-search'\n",
    "\n",
    "\n",
    "doc <- read_html(base_url)\n",
    "\n",
    "# filter using two classes together\n",
    "genre_filter_node <- doc %>% html_nodes('.filter.genres')\n",
    "\n",
    "genre_nodes <- genre_filter %>% html_nodes('.genre label')\n",
    "\n",
    "style_nodes <- genre_filter %>% html_nodes('.style')"
   ]
  },
  {
   "cell_type": "code",
   "execution_count": 42,
   "id": "875e89ac",
   "metadata": {},
   "outputs": [],
   "source": [
    "parse_genre_node <- function(node) {\n",
    "    return (tibble(\n",
    "        id = node %>% html_attrs() %>% map_chr(\"for\"), \n",
    "        genre = node %>% html_text() %>% trimws()\n",
    "    ))  \n",
    "}\n",
    "\n",
    "parse_style_node <- function(node) {\n",
    "    return (tibble(\n",
    "        id = node %>% html_nodes('label') %>% html_attrs() %>% map_chr(\"for\"), \n",
    "        style = node %>% html_nodes('label') %>% html_text() %>% trimws(), \n",
    "        genre_id = node %>% html_attrs() %>% map_chr(\"data-parent\")\n",
    "    ))   \n",
    "}"
   ]
  },
  {
   "cell_type": "code",
   "execution_count": 43,
   "id": "93215736",
   "metadata": {},
   "outputs": [],
   "source": [
    "# define the structure of genre data frame\n",
    "genre_df = tribble(\n",
    "    ~id, ~genre\n",
    ")\n",
    "\n",
    "# define the structure of style data frame\n",
    "style_df = tribble(\n",
    "    ~id, ~style, ~genre_id\n",
    ")\n",
    "\n",
    "for (i in seq_along(genre_nodes)) {\n",
    "    genre_df %<>% rbind(parse_genre_node(genre_nodes[i]))\n",
    "}\n",
    "\n",
    "for (i in seq_along(style_nodes)) {\n",
    "    style_df %<>% rbind(parse_style_node(style_nodes[i]))\n",
    "}\n",
    "\n",
    "write.csv(genre_df, './genre.csv', row.names = FALSE)\n",
    "write.csv(style_df, './style.csv', row.names = FALSE)"
   ]
  },
  {
   "cell_type": "markdown",
   "id": "4d31afcb",
   "metadata": {},
   "source": [
    "### Part2: scrape albums"
   ]
  },
  {
   "cell_type": "code",
   "execution_count": null,
   "id": "228f3d93",
   "metadata": {},
   "outputs": [],
   "source": []
  }
 ],
 "metadata": {
  "kernelspec": {
   "display_name": "R",
   "language": "R",
   "name": "ir"
  },
  "language_info": {
   "codemirror_mode": "r",
   "file_extension": ".r",
   "mimetype": "text/x-r-source",
   "name": "R",
   "pygments_lexer": "r",
   "version": "4.3.1"
  }
 },
 "nbformat": 4,
 "nbformat_minor": 5
}
