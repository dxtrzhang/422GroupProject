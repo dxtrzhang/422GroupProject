{
 "cells": [
  {
   "cell_type": "code",
   "execution_count": 11,
   "id": "7d64807b",
   "metadata": {
    "vscode": {
     "languageId": "r"
    }
   },
   "outputs": [],
   "source": [
    "library(stringr)\n",
    "library(dplyr)\n",
    "  # Standardizing Date: Ensure release_date is in the Date format for any date-related operations.\n",
    "library(lubridate)\n",
    "library(tidyverse)\n",
    "library(magrittr)\n"
   ]
  },
  {
   "cell_type": "code",
   "execution_count": 17,
   "id": "43092a8d-3853-48cc-b18a-34a1b60d9485",
   "metadata": {
    "vscode": {
     "languageId": "r"
    }
   },
   "outputs": [],
   "source": [
    "wrangle_album <- function(data) {\n",
    "  # Extract album IDs from the url column\n",
    "  data$album_id <- str_extract(data$url, \"mw\\\\d+\")\n",
    "\n",
    "\n",
    "  # Load the dplyr package\n",
    "\n",
    "\n",
    "  # Remove some columns\n",
    "  data <- select(data, -genre_names, -genre_urls, -style_names, -style_urls, -mood_names, -mood_urls, -theme_names, -theme_urls, -recording_date, -recording_locations)\n",
    "\n",
    "\n",
    "  # move the 'id' column to be the first column:\n",
    "\n",
    "  # Get the names of all columns\n",
    "  col_names <- names(data)\n",
    "\n",
    "  # Remove 'id' from the list of column names\n",
    "  col_names <- setdiff(col_names, \"album_id\")\n",
    "\n",
    "  # Combine 'id' as the first column with the rest of the column names\n",
    "  new_order <- c(\"album_id\", col_names)\n",
    "\n",
    "  # Reorder the columns in the data frame\n",
    "  data <- data[, new_order]\n",
    "\n",
    "\n",
    "\n",
    "  # Use the mdy() function to convert the date\n",
    "  data$release_date <- mdy(data$release_date)\n",
    "\n",
    "  # Normalizing Text Data: Ensure text data is in a consistent format (e.g., all lowercase).\n",
    "  data$album <- tolower(data$album)\n",
    "\n",
    "  data <- unique(data)\n",
    "\n",
    "  # Reordering columns to move 'url' to the last\n",
    "  data <- data[, c(setdiff(names(data), \"url\"), \"url\")]\n",
    "\n",
    "\n",
    "  # Remove duplicate rows\n",
    "  data <- distinct(data)\n",
    "\n",
    "  # Rename the 'album' column to 'album_name'\n",
    "  data <- data %>%\n",
    "    rename(album_name = album)\n",
    "  \n",
    "  return(data)\n",
    "}\n"
   ]
  },
  {
   "cell_type": "code",
   "execution_count": 20,
   "id": "98f1e4dc",
   "metadata": {
    "vscode": {
     "languageId": "r"
    }
   },
   "outputs": [
    {
     "name": "stderr",
     "output_type": "stream",
     "text": [
      "Warning message:\n",
      "“ 1 failed to parse.”\n"
     ]
    }
   ],
   "source": [
    "albums <- tibble()\n",
    "directory_path <- \"./original\"\n",
    "year_folders <- list.dirs(directory_path, full.names = TRUE, recursive = FALSE)\n",
    "for (year_folder in year_folders) {\n",
    "  page_folders <- list.dirs(year_folder, full.names = TRUE, recursive = FALSE)\n",
    "  for (page_folder in page_folders) {\n",
    "    album_files <- list.files(page_folder, full.names = TRUE, recursive = FALSE)\n",
    "    for (album_file in album_files) {\n",
    "      if (endsWith(album_file, \"albums.csv\")) {\n",
    "        albums %<>% bind_rows(read.csv(album_file))\n",
    "      }\n",
    "    }\n",
    "  }\n",
    "}\n",
    "\n",
    "wrangled_albums <- wrangle_album(albums)\n",
    "write.csv(wrangled_albums, \"./wrangled/albums.csv\", row.names = FALSE)\n",
    "\n"
   ]
  },
  {
   "cell_type": "code",
   "execution_count": null,
   "id": "b7192e87-6808-4035-86a9-75d75c308be1",
   "metadata": {
    "vscode": {
     "languageId": "r"
    }
   },
   "outputs": [],
   "source": [
    "albums_2023_1 <- read.csv(file = \"albums_2023_1.csv\")\n",
    "albums_2023_2 <- read.csv(file = \"albums_2023_2.csv\")\n",
    "\n",
    "# Concatenate albums_2023_1 and albums_2023_2 into one data frame\n",
    "data <- rbind(albums_2023_1, albums_2023_2)\n",
    "\n",
    "\n",
    "# Extract album IDs from the url column\n",
    "data$album_id <- str_extract(data$url, \"mw\\\\d+\")\n",
    "\n",
    "\n",
    "\n",
    "# Remove some columns\n",
    "data <- select(data, -genre_names, -genre_urls, -style_names, -style_urls, -mood_names, -mood_urls, -theme_names, -theme_urls, -recording_date, -recording_locations)\n",
    "\n",
    "\n",
    "# move the 'id' column to be the first column:\n",
    "\n",
    "# Get the names of all columns\n",
    "col_names <- names(data)\n",
    "\n",
    "# Remove 'id' from the list of column names\n",
    "col_names <- setdiff(col_names, \"album_id\")\n",
    "\n",
    "# Combine 'id' as the first column with the rest of the column names\n",
    "new_order <- c(\"album_id\", col_names)\n",
    "\n",
    "# Reorder the columns in the data frame\n",
    "data <- data[, new_order]\n",
    "\n",
    "\n",
    "# Use the mdy() function to convert the date\n",
    "data$release_date <- mdy(data$release_date)\n",
    "\n",
    "\n",
    "#  Parsing duration and convert it to a uniform time format.\n",
    "# Function to convert time to minutes and round to 2 decimal places\n",
    "time_to_minutes <- function(time) {\n",
    "  # Split the time into parts (hours, minutes, seconds)\n",
    "  time_parts <- unlist(strsplit(time, \":\"))\n",
    "  len <- length(time_parts)\n",
    "  \n",
    "  # Calculate the total minutes based on the number of parts\n",
    "  total_minutes <- 0\n",
    "  if (len == 3) {\n",
    "    # If there are three parts (hours, minutes, seconds)\n",
    "    total_minutes <- as.numeric(time_parts[1]) * 60 +\n",
    "      as.numeric(time_parts[2]) +\n",
    "      as.numeric(time_parts[3]) / 60\n",
    "  } else if (len == 2) {\n",
    "    # If there are two parts (minutes, seconds)\n",
    "    total_minutes <- as.numeric(time_parts[1]) +\n",
    "      as.numeric(time_parts[2]) / 60\n",
    "  } else if (len == 1) {\n",
    "    # If there is only one part (minutes)\n",
    "    total_minutes <- as.numeric(time_parts[1]) / 60\n",
    "  }\n",
    "  \n",
    "  # Return the total minutes rounded to 2 decimal places\n",
    "  return(round(total_minutes, 2))\n",
    "}\n",
    "\n",
    "# Apply the function to the duration column\n",
    "data$duration_minutes <- sapply(data$duration, function(x) {\n",
    "  time_to_minutes(x)\n",
    "})\n",
    "\n",
    "data <- select(data, -duration)\n",
    "\n",
    "# Normalizing Text Data: Ensure text data is in a consistent format (e.g., all lowercase).\n",
    "data$album <- tolower(data$album)\n",
    "\n",
    "data <- unique(data)\n",
    "\n",
    "# Reordering columns to move 'url' to the last\n",
    "data <- data[, c(setdiff(names(data), \"url\"), \"url\")]\n",
    "\n",
    "\n",
    "# Remove duplicate rows\n",
    "data <- distinct(data)\n",
    "\n",
    "# Rename the 'album' column to 'album_name'\n",
    "data <- data %>%\n",
    "  rename(album_name = album)"
   ]
  }
 ],
 "metadata": {
  "kernelspec": {
   "display_name": "R",
   "language": "R",
   "name": "ir"
  },
  "language_info": {
   "codemirror_mode": "r",
   "file_extension": ".r",
   "mimetype": "text/x-r-source",
   "name": "R",
   "pygments_lexer": "r",
   "version": "4.3.1"
  }
 },
 "nbformat": 4,
 "nbformat_minor": 5
}
