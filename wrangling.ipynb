{
 "cells": [
  {
   "cell_type": "code",
   "execution_count": 11,
   "id": "7d64807b",
   "metadata": {
    "vscode": {
     "languageId": "r"
    }
   },
   "outputs": [],
   "source": [
    "library(stringr)\n",
    "library(dplyr)\n",
    "  # Standardizing Date: Ensure release_date is in the Date format for any date-related operations.\n",
    "library(lubridate)\n",
    "library(tidyverse)\n",
    "library(magrittr)\n"
   ]
  },
  {
   "cell_type": "code",
   "execution_count": 17,
   "id": "43092a8d-3853-48cc-b18a-34a1b60d9485",
   "metadata": {
    "vscode": {
     "languageId": "r"
    }
   },
   "outputs": [],
   "source": [
    "wrangle_album <- function(data) {\n",
    "  # Extract album IDs from the url column\n",
    "  data$album_id <- str_extract(data$url, \"mw\\\\d+\")\n",
    "\n",
    "\n",
    "  # Load the dplyr package\n",
    "\n",
    "\n",
    "  # Remove some columns\n",
    "  data <- select(data, -genre_names, -genre_urls, -style_names, -style_urls, -mood_names, -mood_urls, -theme_names, -theme_urls, -recording_date, -recording_locations)\n",
    "\n",
    "\n",
    "  # move the 'id' column to be the first column:\n",
    "\n",
    "  # Get the names of all columns\n",
    "  col_names <- names(data)\n",
    "\n",
    "  # Remove 'id' from the list of column names\n",
    "  col_names <- setdiff(col_names, \"album_id\")\n",
    "\n",
    "  # Combine 'id' as the first column with the rest of the column names\n",
    "  new_order <- c(\"album_id\", col_names)\n",
    "\n",
    "  # Reorder the columns in the data frame\n",
    "  data <- data[, new_order]\n",
    "\n",
    "\n",
    "\n",
    "  # Use the mdy() function to convert the date\n",
    "  data$release_date <- mdy(data$release_date)\n",
    "\n",
    "  # Normalizing Text Data: Ensure text data is in a consistent format (e.g., all lowercase).\n",
    "  data$album <- tolower(data$album)\n",
    "\n",
    "  data <- unique(data)\n",
    "\n",
    "  # Reordering columns to move 'url' to the last\n",
    "  data <- data[, c(setdiff(names(data), \"url\"), \"url\")]\n",
    "\n",
    "\n",
    "  # Remove duplicate rows\n",
    "  data <- distinct(data)\n",
    "\n",
    "  # Rename the 'album' column to 'album_name'\n",
    "  data <- data %>%\n",
    "    rename(album_name = album)\n",
    "  \n",
    "  return(data)\n",
    "}\n"
   ]
  },
  {
   "cell_type": "code",
   "execution_count": 25,
   "id": "b7192e87-6808-4035-86a9-75d75c308be1",
   "metadata": {
    "vscode": {
     "languageId": "r"
    }
   },
   "outputs": [],
   "source": [
    "wrangle_track <- function(data) {\n",
    "  # remove some columns that needed for this table\n",
    "  data <- select(data, -composer_names, -composer_urls, -performer_names, -performer_urls)\n",
    "\n",
    "\n",
    "  # Extract track IDs from the url column\n",
    "  data$track_id <- str_extract(data$url, \"(mq|mt)\\\\d+\")\n",
    "\n",
    "\n",
    "  # Extract album IDs from the album url column\n",
    "  data$album_id <- str_extract(data$album_url, \"mw\\\\d+\")\n",
    "\n",
    "  data <- select(data, -num, -album_url)\n",
    "\n",
    "\n",
    "  # Rename the 'title' column to 'track_title'\n",
    "  data <- data %>%\n",
    "    rename(track_title = title)\n",
    "\n",
    "  data$track_title <- tolower(data$track_title)\n",
    "\n",
    "\n",
    "  # Reorder the columns\n",
    "  data <- data %>%\n",
    "    select(track_id, track_title, duration, album_id, url)\n",
    "\n",
    "  # Remove duplicate rows\n",
    "  data <- distinct(data)\n",
    "\n",
    "  return(data)\n",
    "}\n",
    "\n"
   ]
  },
  {
   "cell_type": "code",
   "execution_count": 28,
   "id": "8a6ce239",
   "metadata": {
    "vscode": {
     "languageId": "r"
    }
   },
   "outputs": [
    {
     "name": "stderr",
     "output_type": "stream",
     "text": [
      "Warning message:\n",
      "“ 1 failed to parse.”\n"
     ]
    }
   ],
   "source": [
    "albums <- tibble()\n",
    "tracks <- tibble()\n",
    "directory_path <- \"./original\"\n",
    "year_folders <- list.dirs(directory_path, full.names = TRUE, recursive = FALSE)\n",
    "for (year_folder in year_folders) {\n",
    "  page_folders <- list.dirs(year_folder, full.names = TRUE, recursive = FALSE)\n",
    "  for (page_folder in page_folders) {\n",
    "    files <- list.files(page_folder, full.names = TRUE, recursive = FALSE)\n",
    "    for (file in files) {\n",
    "      if (endsWith(file, \"albums.csv\")) {\n",
    "        albums %<>% bind_rows(read.csv(file))\n",
    "      }\n",
    "      if (endsWith(file, \"tracks.csv\")) {\n",
    "        tracks %<>% bind_rows(read.csv(file))\n",
    "      }\n",
    "    }\n",
    "  }\n",
    "}\n",
    "\n",
    "wrangled_albums <- wrangle_album(albums)\n",
    "wrangled_tracks <- wrangle_track(tracks)\n",
    "write.csv(wrangled_albums, \"./wrangled/albums.csv\", row.names = FALSE)\n",
    "write.csv(wrangled_tracks, \"./wrangled/tracks.csv\", row.names = FALSE)"
   ]
  }
 ],
 "metadata": {
  "kernelspec": {
   "display_name": "R",
   "language": "R",
   "name": "ir"
  },
  "language_info": {
   "codemirror_mode": "r",
   "file_extension": ".r",
   "mimetype": "text/x-r-source",
   "name": "R",
   "pygments_lexer": "r",
   "version": "4.3.0"
  }
 },
 "nbformat": 4,
 "nbformat_minor": 5
}
